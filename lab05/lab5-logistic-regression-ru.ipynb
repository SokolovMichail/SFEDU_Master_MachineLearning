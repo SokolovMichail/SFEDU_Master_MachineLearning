{
 "cells": [
  {
   "cell_type": "markdown",
   "metadata": {},
   "source": [
    "## Лабораторная 5: логистическая регрессия. ROC. AUC. One-hot encoding"
   ]
  },
  {
   "cell_type": "markdown",
   "metadata": {},
   "source": [
    "## 1\n",
    "Рассмотрим данные медицинской страховой фирмы. На основе характеристик пациентов `Members.csv` (возраст, пол) и данных о получении медицинского обслуживания в предыдущем году `Claims_Y1.csv` (медицинское учреждение, врач, тип проблемы, количество дней госпитализации, дата, и др. ) нужно предсказать факт госпитализации хотя бы на 1 день в следующем году `DaysInHospital_Y2.csv`."
   ]
  },
  {
   "cell_type": "code",
   "execution_count": 1,
   "metadata": {},
   "outputs": [],
   "source": [
    "import pandas as pd\n",
    "import tqdm\n",
    "from sklearn import *\n",
    "\n",
    "%matplotlib inline\n",
    "import matplotlib.pyplot as plt"
   ]
  },
  {
   "cell_type": "markdown",
   "metadata": {},
   "source": [
    "Прочтите данные, в качестве параметра index_col используйте `MemberID`. \n",
    "\n",
    "* данные из таблицы 'DaysInHospital_Y2.csv' в переменную `days2`\n",
    "* данные из таблицы 'Members.csv' в переменную `m`\n",
    "* данные из таблицы 'Claims_Y1.csv' в переменную `claims`"
   ]
  },
  {
   "cell_type": "code",
   "execution_count": 2,
   "metadata": {},
   "outputs": [],
   "source": [
    "# место для кода\n",
    "m = pd.read_csv('Members.csv',delimiter=',',index_col='MemberID')\n",
    "claims = pd.read_csv('Claims_Y1.csv',delimiter=',',index_col='MemberID')\n",
    "days_2 = pd.read_csv('DaysInHospital_Y2.csv',delimiter=',',index_col='MemberID')"
   ]
  },
  {
   "cell_type": "markdown",
   "metadata": {},
   "source": [
    "## 2\n",
    "Чтобы анонимизировать данные организатор указал приблизительную информацию о пациентах, например в столбце возраст указаны возрастные группы: '0-9', '10-19', '20-29', '30-39', '40-49', '50-59', '60-69', '70-79', '80+'. Преобразуем строковые признаки в количественные и заменим пропущенные значения:"
   ]
  },
  {
   "cell_type": "code",
   "execution_count": 3,
   "metadata": {},
   "outputs": [],
   "source": [
    "i = pd.notnull(m.AgeAtFirstClaim)\n",
    "m.loc[i,'AgeAtFirstClaim'] = m.loc[i,'AgeAtFirstClaim'].apply(lambda s: s.split('-')[0] if s!='80+' else '80')\n",
    "m.loc[i,'AgeAtFirstClaim'] = m.loc[i,'AgeAtFirstClaim'].apply(lambda s: int(s))\n",
    "\n",
    "m.AgeAtFirstClaim = m.AgeAtFirstClaim.fillna(value=-1)\n",
    "\n",
    "m.Sex = m.Sex.fillna(value='N')\n",
    "\n",
    "claims.CharlsonIndex = claims.CharlsonIndex.map({'0':0, '1-2':1, '3-4':3, '5+':5})\n",
    "claims.LengthOfStay = claims.LengthOfStay.fillna(value=0)\n",
    "claims.LengthOfStay = claims.LengthOfStay.map({0:0, '1 day':1, '2 days':2, '3 days':3, '4 days':4,\\\n",
    "    '5 days':5, '6 days':6, '1- 2 weeks':10, '2- 4 weeks':21, '4- 8 weeks':42, '26+ weeks':182})\n"
   ]
  },
  {
   "cell_type": "code",
   "execution_count": 4,
   "metadata": {},
   "outputs": [
    {
     "data": {
      "text/html": [
       "<div>\n",
       "<style scoped>\n",
       "    .dataframe tbody tr th:only-of-type {\n",
       "        vertical-align: middle;\n",
       "    }\n",
       "\n",
       "    .dataframe tbody tr th {\n",
       "        vertical-align: top;\n",
       "    }\n",
       "\n",
       "    .dataframe thead th {\n",
       "        text-align: right;\n",
       "    }\n",
       "</style>\n",
       "<table border=\"1\" class=\"dataframe\">\n",
       "  <thead>\n",
       "    <tr style=\"text-align: right;\">\n",
       "      <th></th>\n",
       "      <th>ClaimsTruncated</th>\n",
       "      <th>DaysInHospital</th>\n",
       "    </tr>\n",
       "  </thead>\n",
       "  <tbody>\n",
       "    <tr>\n",
       "      <th>count</th>\n",
       "      <td>76037.000000</td>\n",
       "      <td>76037.000000</td>\n",
       "    </tr>\n",
       "    <tr>\n",
       "      <th>mean</th>\n",
       "      <td>0.052225</td>\n",
       "      <td>0.154780</td>\n",
       "    </tr>\n",
       "    <tr>\n",
       "      <th>std</th>\n",
       "      <td>0.222481</td>\n",
       "      <td>0.361697</td>\n",
       "    </tr>\n",
       "    <tr>\n",
       "      <th>min</th>\n",
       "      <td>0.000000</td>\n",
       "      <td>0.000000</td>\n",
       "    </tr>\n",
       "    <tr>\n",
       "      <th>25%</th>\n",
       "      <td>0.000000</td>\n",
       "      <td>0.000000</td>\n",
       "    </tr>\n",
       "    <tr>\n",
       "      <th>50%</th>\n",
       "      <td>0.000000</td>\n",
       "      <td>0.000000</td>\n",
       "    </tr>\n",
       "    <tr>\n",
       "      <th>75%</th>\n",
       "      <td>0.000000</td>\n",
       "      <td>0.000000</td>\n",
       "    </tr>\n",
       "    <tr>\n",
       "      <th>max</th>\n",
       "      <td>1.000000</td>\n",
       "      <td>1.000000</td>\n",
       "    </tr>\n",
       "  </tbody>\n",
       "</table>\n",
       "</div>"
      ],
      "text/plain": [
       "       ClaimsTruncated  DaysInHospital\n",
       "count     76037.000000    76037.000000\n",
       "mean          0.052225        0.154780\n",
       "std           0.222481        0.361697\n",
       "min           0.000000        0.000000\n",
       "25%           0.000000        0.000000\n",
       "50%           0.000000        0.000000\n",
       "75%           0.000000        0.000000\n",
       "max           1.000000        1.000000"
      ]
     },
     "execution_count": 4,
     "metadata": {},
     "output_type": "execute_result"
    }
   ],
   "source": [
    "days_2.describe()"
   ]
  },
  {
   "cell_type": "code",
   "execution_count": 5,
   "metadata": {},
   "outputs": [
    {
     "data": {
      "text/html": [
       "<div>\n",
       "<style scoped>\n",
       "    .dataframe tbody tr th:only-of-type {\n",
       "        vertical-align: middle;\n",
       "    }\n",
       "\n",
       "    .dataframe tbody tr th {\n",
       "        vertical-align: top;\n",
       "    }\n",
       "\n",
       "    .dataframe thead th {\n",
       "        text-align: right;\n",
       "    }\n",
       "</style>\n",
       "<table border=\"1\" class=\"dataframe\">\n",
       "  <thead>\n",
       "    <tr style=\"text-align: right;\">\n",
       "      <th></th>\n",
       "      <th>AgeAtFirstClaim</th>\n",
       "    </tr>\n",
       "  </thead>\n",
       "  <tbody>\n",
       "    <tr>\n",
       "      <th>count</th>\n",
       "      <td>113000.000000</td>\n",
       "    </tr>\n",
       "    <tr>\n",
       "      <th>mean</th>\n",
       "      <td>38.446522</td>\n",
       "    </tr>\n",
       "    <tr>\n",
       "      <th>std</th>\n",
       "      <td>25.440341</td>\n",
       "    </tr>\n",
       "    <tr>\n",
       "      <th>min</th>\n",
       "      <td>-1.000000</td>\n",
       "    </tr>\n",
       "    <tr>\n",
       "      <th>25%</th>\n",
       "      <td>20.000000</td>\n",
       "    </tr>\n",
       "    <tr>\n",
       "      <th>50%</th>\n",
       "      <td>40.000000</td>\n",
       "    </tr>\n",
       "    <tr>\n",
       "      <th>75%</th>\n",
       "      <td>60.000000</td>\n",
       "    </tr>\n",
       "    <tr>\n",
       "      <th>max</th>\n",
       "      <td>80.000000</td>\n",
       "    </tr>\n",
       "  </tbody>\n",
       "</table>\n",
       "</div>"
      ],
      "text/plain": [
       "       AgeAtFirstClaim\n",
       "count    113000.000000\n",
       "mean         38.446522\n",
       "std          25.440341\n",
       "min          -1.000000\n",
       "25%          20.000000\n",
       "50%          40.000000\n",
       "75%          60.000000\n",
       "max          80.000000"
      ]
     },
     "execution_count": 5,
     "metadata": {},
     "output_type": "execute_result"
    }
   ],
   "source": [
    "m.describe()"
   ]
  },
  {
   "cell_type": "code",
   "execution_count": 6,
   "metadata": {},
   "outputs": [
    {
     "data": {
      "text/html": [
       "<div>\n",
       "<style scoped>\n",
       "    .dataframe tbody tr th:only-of-type {\n",
       "        vertical-align: middle;\n",
       "    }\n",
       "\n",
       "    .dataframe tbody tr th {\n",
       "        vertical-align: top;\n",
       "    }\n",
       "\n",
       "    .dataframe thead th {\n",
       "        text-align: right;\n",
       "    }\n",
       "</style>\n",
       "<table border=\"1\" class=\"dataframe\">\n",
       "  <thead>\n",
       "    <tr style=\"text-align: right;\">\n",
       "      <th></th>\n",
       "      <th>ProviderID</th>\n",
       "      <th>Vendor</th>\n",
       "      <th>PCP</th>\n",
       "      <th>Year</th>\n",
       "      <th>Specialty</th>\n",
       "      <th>PlaceSvc</th>\n",
       "      <th>PayDelay</th>\n",
       "      <th>LengthOfStay</th>\n",
       "      <th>DSFS</th>\n",
       "      <th>PrimaryConditionGroup</th>\n",
       "      <th>CharlsonIndex</th>\n",
       "      <th>ProcedureGroup</th>\n",
       "      <th>SupLOS</th>\n",
       "    </tr>\n",
       "    <tr>\n",
       "      <th>MemberID</th>\n",
       "      <th></th>\n",
       "      <th></th>\n",
       "      <th></th>\n",
       "      <th></th>\n",
       "      <th></th>\n",
       "      <th></th>\n",
       "      <th></th>\n",
       "      <th></th>\n",
       "      <th></th>\n",
       "      <th></th>\n",
       "      <th></th>\n",
       "      <th></th>\n",
       "      <th></th>\n",
       "    </tr>\n",
       "  </thead>\n",
       "  <tbody>\n",
       "    <tr>\n",
       "      <th>42286978</th>\n",
       "      <td>8013252.0</td>\n",
       "      <td>172193.0</td>\n",
       "      <td>37796.0</td>\n",
       "      <td>Y1</td>\n",
       "      <td>Surgery</td>\n",
       "      <td>Office</td>\n",
       "      <td>28</td>\n",
       "      <td>0</td>\n",
       "      <td>8- 9 months</td>\n",
       "      <td>NEUMENT</td>\n",
       "      <td>0</td>\n",
       "      <td>MED</td>\n",
       "      <td>0</td>\n",
       "    </tr>\n",
       "    <tr>\n",
       "      <th>99829076</th>\n",
       "      <td>6721023.0</td>\n",
       "      <td>265273.0</td>\n",
       "      <td>91972.0</td>\n",
       "      <td>Y1</td>\n",
       "      <td>Rehabilitation</td>\n",
       "      <td>Office</td>\n",
       "      <td>162+</td>\n",
       "      <td>0</td>\n",
       "      <td>0- 1 month</td>\n",
       "      <td>TRAUMA</td>\n",
       "      <td>0</td>\n",
       "      <td>MED</td>\n",
       "      <td>0</td>\n",
       "    </tr>\n",
       "    <tr>\n",
       "      <th>54666321</th>\n",
       "      <td>9932074.0</td>\n",
       "      <td>35565.0</td>\n",
       "      <td>27294.0</td>\n",
       "      <td>Y1</td>\n",
       "      <td>Diagnostic Imaging</td>\n",
       "      <td>Office</td>\n",
       "      <td>29</td>\n",
       "      <td>0</td>\n",
       "      <td>0- 1 month</td>\n",
       "      <td>RESPR4</td>\n",
       "      <td>0</td>\n",
       "      <td>RAD</td>\n",
       "      <td>0</td>\n",
       "    </tr>\n",
       "    <tr>\n",
       "      <th>66951188</th>\n",
       "      <td>4699470.0</td>\n",
       "      <td>179509.0</td>\n",
       "      <td>75876.0</td>\n",
       "      <td>Y1</td>\n",
       "      <td>Diagnostic Imaging</td>\n",
       "      <td>Inpatient Hospital</td>\n",
       "      <td>51</td>\n",
       "      <td>0</td>\n",
       "      <td>0- 1 month</td>\n",
       "      <td>ROAMI</td>\n",
       "      <td>0</td>\n",
       "      <td>RAD</td>\n",
       "      <td>0</td>\n",
       "    </tr>\n",
       "    <tr>\n",
       "      <th>78859054</th>\n",
       "      <td>9121540.0</td>\n",
       "      <td>523791.0</td>\n",
       "      <td>21579.0</td>\n",
       "      <td>Y1</td>\n",
       "      <td>Emergency</td>\n",
       "      <td>Urgent Care</td>\n",
       "      <td>22</td>\n",
       "      <td>1</td>\n",
       "      <td>6- 7 months</td>\n",
       "      <td>HEART2</td>\n",
       "      <td>0</td>\n",
       "      <td>SDS</td>\n",
       "      <td>0</td>\n",
       "    </tr>\n",
       "    <tr>\n",
       "      <th>...</th>\n",
       "      <td>...</td>\n",
       "      <td>...</td>\n",
       "      <td>...</td>\n",
       "      <td>...</td>\n",
       "      <td>...</td>\n",
       "      <td>...</td>\n",
       "      <td>...</td>\n",
       "      <td>...</td>\n",
       "      <td>...</td>\n",
       "      <td>...</td>\n",
       "      <td>...</td>\n",
       "      <td>...</td>\n",
       "      <td>...</td>\n",
       "    </tr>\n",
       "    <tr>\n",
       "      <th>98535515</th>\n",
       "      <td>7638907.0</td>\n",
       "      <td>559727.0</td>\n",
       "      <td>83829.0</td>\n",
       "      <td>Y1</td>\n",
       "      <td>Emergency</td>\n",
       "      <td>Urgent Care</td>\n",
       "      <td>44</td>\n",
       "      <td>0</td>\n",
       "      <td>7- 8 months</td>\n",
       "      <td>TRAUMA</td>\n",
       "      <td>0</td>\n",
       "      <td>EM</td>\n",
       "      <td>0</td>\n",
       "    </tr>\n",
       "    <tr>\n",
       "      <th>1344508</th>\n",
       "      <td>4107701.0</td>\n",
       "      <td>164823.0</td>\n",
       "      <td>78718.0</td>\n",
       "      <td>Y1</td>\n",
       "      <td>Laboratory</td>\n",
       "      <td>Independent Lab</td>\n",
       "      <td>17</td>\n",
       "      <td>0</td>\n",
       "      <td>NaN</td>\n",
       "      <td>CATAST</td>\n",
       "      <td>0</td>\n",
       "      <td>SCS</td>\n",
       "      <td>0</td>\n",
       "    </tr>\n",
       "    <tr>\n",
       "      <th>73820095</th>\n",
       "      <td>1256697.0</td>\n",
       "      <td>789572.0</td>\n",
       "      <td>821.0</td>\n",
       "      <td>Y1</td>\n",
       "      <td>Surgery</td>\n",
       "      <td>Office</td>\n",
       "      <td>35</td>\n",
       "      <td>0</td>\n",
       "      <td>5- 6 months</td>\n",
       "      <td>MSC2a3</td>\n",
       "      <td>1</td>\n",
       "      <td>MED</td>\n",
       "      <td>0</td>\n",
       "    </tr>\n",
       "    <tr>\n",
       "      <th>22476463</th>\n",
       "      <td>7053364.0</td>\n",
       "      <td>240043.0</td>\n",
       "      <td>70171.0</td>\n",
       "      <td>Y1</td>\n",
       "      <td>Laboratory</td>\n",
       "      <td>Independent Lab</td>\n",
       "      <td>38</td>\n",
       "      <td>0</td>\n",
       "      <td>0- 1 month</td>\n",
       "      <td>MSC2a3</td>\n",
       "      <td>0</td>\n",
       "      <td>PL</td>\n",
       "      <td>0</td>\n",
       "    </tr>\n",
       "    <tr>\n",
       "      <th>57805129</th>\n",
       "      <td>3884005.0</td>\n",
       "      <td>523319.0</td>\n",
       "      <td>90756.0</td>\n",
       "      <td>Y1</td>\n",
       "      <td>Internal</td>\n",
       "      <td>Office</td>\n",
       "      <td>15</td>\n",
       "      <td>0</td>\n",
       "      <td>4- 5 months</td>\n",
       "      <td>SKNAUT</td>\n",
       "      <td>1</td>\n",
       "      <td>EM</td>\n",
       "      <td>0</td>\n",
       "    </tr>\n",
       "  </tbody>\n",
       "</table>\n",
       "<p>865689 rows × 13 columns</p>\n",
       "</div>"
      ],
      "text/plain": [
       "          ProviderID    Vendor      PCP Year           Specialty  \\\n",
       "MemberID                                                           \n",
       "42286978   8013252.0  172193.0  37796.0   Y1             Surgery   \n",
       "99829076   6721023.0  265273.0  91972.0   Y1      Rehabilitation   \n",
       "54666321   9932074.0   35565.0  27294.0   Y1  Diagnostic Imaging   \n",
       "66951188   4699470.0  179509.0  75876.0   Y1  Diagnostic Imaging   \n",
       "78859054   9121540.0  523791.0  21579.0   Y1           Emergency   \n",
       "...              ...       ...      ...  ...                 ...   \n",
       "98535515   7638907.0  559727.0  83829.0   Y1           Emergency   \n",
       "1344508    4107701.0  164823.0  78718.0   Y1          Laboratory   \n",
       "73820095   1256697.0  789572.0    821.0   Y1             Surgery   \n",
       "22476463   7053364.0  240043.0  70171.0   Y1          Laboratory   \n",
       "57805129   3884005.0  523319.0  90756.0   Y1            Internal   \n",
       "\n",
       "                    PlaceSvc PayDelay  LengthOfStay         DSFS  \\\n",
       "MemberID                                                           \n",
       "42286978              Office       28             0  8- 9 months   \n",
       "99829076              Office     162+             0   0- 1 month   \n",
       "54666321              Office       29             0   0- 1 month   \n",
       "66951188  Inpatient Hospital       51             0   0- 1 month   \n",
       "78859054         Urgent Care       22             1  6- 7 months   \n",
       "...                      ...      ...           ...          ...   \n",
       "98535515         Urgent Care       44             0  7- 8 months   \n",
       "1344508      Independent Lab       17             0          NaN   \n",
       "73820095              Office       35             0  5- 6 months   \n",
       "22476463     Independent Lab       38             0   0- 1 month   \n",
       "57805129              Office       15             0  4- 5 months   \n",
       "\n",
       "         PrimaryConditionGroup  CharlsonIndex ProcedureGroup  SupLOS  \n",
       "MemberID                                                              \n",
       "42286978               NEUMENT              0            MED       0  \n",
       "99829076                TRAUMA              0            MED       0  \n",
       "54666321                RESPR4              0            RAD       0  \n",
       "66951188                 ROAMI              0            RAD       0  \n",
       "78859054                HEART2              0            SDS       0  \n",
       "...                        ...            ...            ...     ...  \n",
       "98535515                TRAUMA              0             EM       0  \n",
       "1344508                 CATAST              0            SCS       0  \n",
       "73820095                MSC2a3              1            MED       0  \n",
       "22476463                MSC2a3              0             PL       0  \n",
       "57805129                SKNAUT              1             EM       0  \n",
       "\n",
       "[865689 rows x 13 columns]"
      ]
     },
     "execution_count": 6,
     "metadata": {},
     "output_type": "execute_result"
    }
   ],
   "source": [
    "claims"
   ]
  },
  {
   "cell_type": "markdown",
   "metadata": {},
   "source": [
    "## 3\n",
    "Сконструируем признаки по массиву случаев медицинского обслуживания: \n",
    "* `f_Charlson` — максимальный индекс коморбидности Чальсона по всем случаям для пациента (`CharlsonIndex` в таблице `claims`)\n",
    "* `f_LengthOfStay` — суммарное количество дней госпитализации в прошлом году (`LengthOfStay` в таблице `claims`) \n",
    "\n",
    "*Функции, которые могут пригодиться при решении: `.groupby(['MemberID']), .max(), .sum()`* "
   ]
  },
  {
   "cell_type": "code",
   "execution_count": 7,
   "metadata": {},
   "outputs": [
    {
     "data": {
      "text/plain": [
       "(MemberID\n",
       " 210         0\n",
       " 3197        0\n",
       " 3889        1\n",
       " 4187        0\n",
       " 9063        0\n",
       "            ..\n",
       " 99995554    0\n",
       " 99996214    0\n",
       " 99997485    0\n",
       " 99997895    0\n",
       " 99998627    1\n",
       " Name: CharlsonIndex, Length: 76038, dtype: int64,\n",
       " MemberID\n",
       " 210         2\n",
       " 3197        0\n",
       " 3889        3\n",
       " 4187        0\n",
       " 9063        0\n",
       "            ..\n",
       " 99995554    0\n",
       " 99996214    0\n",
       " 99997485    0\n",
       " 99997895    0\n",
       " 99998627    2\n",
       " Name: LengthOfStay, Length: 76038, dtype: int64)"
      ]
     },
     "execution_count": 7,
     "metadata": {},
     "output_type": "execute_result"
    }
   ],
   "source": [
    "f_Charlson = claims.groupby(['MemberID'])['CharlsonIndex'].max()\n",
    "f_LengthOfStay = claims.groupby(['MemberID'])['LengthOfStay'].sum()\n",
    "f_Charlson, f_LengthOfStay"
   ]
  },
  {
   "cell_type": "markdown",
   "metadata": {},
   "source": [
    "## 4\n",
    "\n",
    "Составим матрицу объектов признаков со столбцами: `f_Charlson`, `f_LengthOfStay`, возраст пациента, `ClaimsTruncated` (не оказалось ли случаев медицинского обслуживания слишком много):\n",
    "\n",
    "*Функции, которые могут пригодиться при решении: `.join()`*"
   ]
  },
  {
   "cell_type": "code",
   "execution_count": 8,
   "metadata": {},
   "outputs": [
    {
     "data": {
      "text/html": [
       "<div>\n",
       "<style scoped>\n",
       "    .dataframe tbody tr th:only-of-type {\n",
       "        vertical-align: middle;\n",
       "    }\n",
       "\n",
       "    .dataframe tbody tr th {\n",
       "        vertical-align: top;\n",
       "    }\n",
       "\n",
       "    .dataframe thead th {\n",
       "        text-align: right;\n",
       "    }\n",
       "</style>\n",
       "<table border=\"1\" class=\"dataframe\">\n",
       "  <thead>\n",
       "    <tr style=\"text-align: right;\">\n",
       "      <th></th>\n",
       "      <th>ClaimsTruncated</th>\n",
       "      <th>DaysInHospital</th>\n",
       "      <th>CharlsonIndex</th>\n",
       "      <th>LengthOfStay</th>\n",
       "      <th>AgeAtFirstClaim</th>\n",
       "    </tr>\n",
       "    <tr>\n",
       "      <th>MemberID</th>\n",
       "      <th></th>\n",
       "      <th></th>\n",
       "      <th></th>\n",
       "      <th></th>\n",
       "      <th></th>\n",
       "    </tr>\n",
       "  </thead>\n",
       "  <tbody>\n",
       "    <tr>\n",
       "      <th>98324177</th>\n",
       "      <td>0</td>\n",
       "      <td>0</td>\n",
       "      <td>0</td>\n",
       "      <td>0</td>\n",
       "      <td>30</td>\n",
       "    </tr>\n",
       "    <tr>\n",
       "      <th>33899367</th>\n",
       "      <td>1</td>\n",
       "      <td>1</td>\n",
       "      <td>0</td>\n",
       "      <td>0</td>\n",
       "      <td>80</td>\n",
       "    </tr>\n",
       "    <tr>\n",
       "      <th>5481382</th>\n",
       "      <td>0</td>\n",
       "      <td>1</td>\n",
       "      <td>0</td>\n",
       "      <td>0</td>\n",
       "      <td>20</td>\n",
       "    </tr>\n",
       "    <tr>\n",
       "      <th>69908334</th>\n",
       "      <td>0</td>\n",
       "      <td>0</td>\n",
       "      <td>0</td>\n",
       "      <td>0</td>\n",
       "      <td>60</td>\n",
       "    </tr>\n",
       "    <tr>\n",
       "      <th>29951458</th>\n",
       "      <td>0</td>\n",
       "      <td>0</td>\n",
       "      <td>0</td>\n",
       "      <td>0</td>\n",
       "      <td>40</td>\n",
       "    </tr>\n",
       "    <tr>\n",
       "      <th>...</th>\n",
       "      <td>...</td>\n",
       "      <td>...</td>\n",
       "      <td>...</td>\n",
       "      <td>...</td>\n",
       "      <td>...</td>\n",
       "    </tr>\n",
       "    <tr>\n",
       "      <th>1702326</th>\n",
       "      <td>0</td>\n",
       "      <td>0</td>\n",
       "      <td>0</td>\n",
       "      <td>0</td>\n",
       "      <td>20</td>\n",
       "    </tr>\n",
       "    <tr>\n",
       "      <th>31530440</th>\n",
       "      <td>0</td>\n",
       "      <td>0</td>\n",
       "      <td>0</td>\n",
       "      <td>0</td>\n",
       "      <td>0</td>\n",
       "    </tr>\n",
       "    <tr>\n",
       "      <th>87102780</th>\n",
       "      <td>0</td>\n",
       "      <td>0</td>\n",
       "      <td>0</td>\n",
       "      <td>0</td>\n",
       "      <td>40</td>\n",
       "    </tr>\n",
       "    <tr>\n",
       "      <th>74032946</th>\n",
       "      <td>0</td>\n",
       "      <td>0</td>\n",
       "      <td>1</td>\n",
       "      <td>0</td>\n",
       "      <td>70</td>\n",
       "    </tr>\n",
       "    <tr>\n",
       "      <th>21964521</th>\n",
       "      <td>0</td>\n",
       "      <td>0</td>\n",
       "      <td>1</td>\n",
       "      <td>0</td>\n",
       "      <td>60</td>\n",
       "    </tr>\n",
       "  </tbody>\n",
       "</table>\n",
       "<p>76037 rows × 5 columns</p>\n",
       "</div>"
      ],
      "text/plain": [
       "          ClaimsTruncated  DaysInHospital  CharlsonIndex  LengthOfStay  \\\n",
       "MemberID                                                                 \n",
       "98324177                0               0              0             0   \n",
       "33899367                1               1              0             0   \n",
       "5481382                 0               1              0             0   \n",
       "69908334                0               0              0             0   \n",
       "29951458                0               0              0             0   \n",
       "...                   ...             ...            ...           ...   \n",
       "1702326                 0               0              0             0   \n",
       "31530440                0               0              0             0   \n",
       "87102780                0               0              0             0   \n",
       "74032946                0               0              1             0   \n",
       "21964521                0               0              1             0   \n",
       "\n",
       "          AgeAtFirstClaim  \n",
       "MemberID                   \n",
       "98324177               30  \n",
       "33899367               80  \n",
       "5481382                20  \n",
       "69908334               60  \n",
       "29951458               40  \n",
       "...                   ...  \n",
       "1702326                20  \n",
       "31530440                0  \n",
       "87102780               40  \n",
       "74032946               70  \n",
       "21964521               60  \n",
       "\n",
       "[76037 rows x 5 columns]"
      ]
     },
     "execution_count": 8,
     "metadata": {},
     "output_type": "execute_result"
    }
   ],
   "source": [
    "data = days_2\n",
    "data = data.join(f_Charlson)\n",
    "data = data.join(f_LengthOfStay)\n",
    "data = data.join(m['AgeAtFirstClaim'])\n",
    "\n",
    "# место для кода\n",
    "data"
   ]
  },
  {
   "cell_type": "markdown",
   "metadata": {},
   "source": [
    "## 5\n",
    "Составим функцию, которая будет делить выборку на две части `dataTrain` и `dataTest`, обучать логистическую регрессию на `dataTrain`, применять к `dataTest`, строить кривую ошибок и считать под ней площадь:"
   ]
  },
  {
   "cell_type": "code",
   "execution_count": 9,
   "metadata": {},
   "outputs": [],
   "source": [
    "def calcAUC(data):\n",
    "    dataTrain, dataTest = model_selection.train_test_split(data, test_size=0.5, random_state=1)\n",
    "    model = linear_model.LogisticRegression(max_iter=1000000)\n",
    "    model.fit( dataTrain.loc[:, dataTrain.columns != 'DaysInHospital'], dataTrain.DaysInHospital )\n",
    "    predictionProb = model.predict_proba( dataTest.loc[:, dataTest.columns != 'DaysInHospital'] )\n",
    "    fpr, tpr, _ = metrics.roc_curve(dataTest['DaysInHospital'], predictionProb[:,1])\n",
    "    plt.figure()\n",
    "    plt.plot(fpr, tpr, color='darkorange', lw=2)\n",
    "    plt.plot([0, 1], [0, 1], color='navy', lw=2, linestyle='--')\n",
    "    plt.show()\n",
    "    print( metrics.roc_auc_score(dataTest['DaysInHospital'], predictionProb[:,1]) )\n",
    "    return metrics.roc_auc_score(dataTest['DaysInHospital'], predictionProb[:,1])"
   ]
  },
  {
   "cell_type": "markdown",
   "metadata": {},
   "source": [
    "## 6\n",
    "Применим данную функцию к `data`:"
   ]
  },
  {
   "cell_type": "code",
   "execution_count": 10,
   "metadata": {},
   "outputs": [
    {
     "data": {
      "image/png": "[encoded data removed]",
      "text/plain": [
       "<Figure size 432x288 with 1 Axes>"
      ]
     },
     "metadata": {
      "needs_background": "light"
     },
     "output_type": "display_data"
    },
    {
     "name": "stdout",
     "output_type": "stream",
     "text": [
      "0.6125102736880302\n"
     ]
    }
   ],
   "source": [
    "res = calcAUC(data)\n"
   ]
  },
  {
   "cell_type": "markdown",
   "metadata": {},
   "source": [
    "## 7\n",
    "Логистическая регрессия принимает на вход только количественные признаки.\n",
    "\n",
    "Добавим к нашим данным пол пациента, применив one hot encoding:\n",
    "\n",
    "*Функции, которые могут пригодиться при решении: `pd.get_dummies(m.Sex, prefix='pol')`* "
   ]
  },
  {
   "cell_type": "code",
   "execution_count": 11,
   "metadata": {},
   "outputs": [],
   "source": [
    "def insert_and_one_hote_encode_column(data,column, prefix):\n",
    "    data_new = data.copy()\n",
    "    encoded =  pd.get_dummies(column, prefix=prefix).groupby(level=0).sum()\n",
    "    data_new = data_new.join(encoded)\n",
    "    data_new.fillna(0,inplace = True)\n",
    "    return data_new\n",
    "\n",
    "def insert\n",
    "        \n",
    "def remove_one_hot_encoded(data,column, prefix):\n",
    "    data_new =data.copy()\n",
    "    encoded =  pd.get_dummies(column, prefix=prefix)\n",
    "    data_new = data_new.drop(columns = encoded.columns)\n",
    "    return data_new\n",
    "\n",
    "def reset_data(data):\n",
    "    data = days_2\n",
    "    return data"
   ]
  },
  {
   "cell_type": "code",
   "execution_count": 12,
   "metadata": {},
   "outputs": [
    {
     "data": {
      "text/html": [
       "<div>\n",
       "<style scoped>\n",
       "    .dataframe tbody tr th:only-of-type {\n",
       "        vertical-align: middle;\n",
       "    }\n",
       "\n",
       "    .dataframe tbody tr th {\n",
       "        vertical-align: top;\n",
       "    }\n",
       "\n",
       "    .dataframe thead th {\n",
       "        text-align: right;\n",
       "    }\n",
       "</style>\n",
       "<table border=\"1\" class=\"dataframe\">\n",
       "  <thead>\n",
       "    <tr style=\"text-align: right;\">\n",
       "      <th></th>\n",
       "      <th>ClaimsTruncated</th>\n",
       "      <th>DaysInHospital</th>\n",
       "      <th>CharlsonIndex</th>\n",
       "      <th>LengthOfStay</th>\n",
       "      <th>AgeAtFirstClaim</th>\n",
       "    </tr>\n",
       "    <tr>\n",
       "      <th>MemberID</th>\n",
       "      <th></th>\n",
       "      <th></th>\n",
       "      <th></th>\n",
       "      <th></th>\n",
       "      <th></th>\n",
       "    </tr>\n",
       "  </thead>\n",
       "  <tbody>\n",
       "    <tr>\n",
       "      <th>98324177</th>\n",
       "      <td>0</td>\n",
       "      <td>0</td>\n",
       "      <td>0</td>\n",
       "      <td>0</td>\n",
       "      <td>30</td>\n",
       "    </tr>\n",
       "    <tr>\n",
       "      <th>33899367</th>\n",
       "      <td>1</td>\n",
       "      <td>1</td>\n",
       "      <td>0</td>\n",
       "      <td>0</td>\n",
       "      <td>80</td>\n",
       "    </tr>\n",
       "    <tr>\n",
       "      <th>5481382</th>\n",
       "      <td>0</td>\n",
       "      <td>1</td>\n",
       "      <td>0</td>\n",
       "      <td>0</td>\n",
       "      <td>20</td>\n",
       "    </tr>\n",
       "    <tr>\n",
       "      <th>69908334</th>\n",
       "      <td>0</td>\n",
       "      <td>0</td>\n",
       "      <td>0</td>\n",
       "      <td>0</td>\n",
       "      <td>60</td>\n",
       "    </tr>\n",
       "    <tr>\n",
       "      <th>29951458</th>\n",
       "      <td>0</td>\n",
       "      <td>0</td>\n",
       "      <td>0</td>\n",
       "      <td>0</td>\n",
       "      <td>40</td>\n",
       "    </tr>\n",
       "    <tr>\n",
       "      <th>...</th>\n",
       "      <td>...</td>\n",
       "      <td>...</td>\n",
       "      <td>...</td>\n",
       "      <td>...</td>\n",
       "      <td>...</td>\n",
       "    </tr>\n",
       "    <tr>\n",
       "      <th>1702326</th>\n",
       "      <td>0</td>\n",
       "      <td>0</td>\n",
       "      <td>0</td>\n",
       "      <td>0</td>\n",
       "      <td>20</td>\n",
       "    </tr>\n",
       "    <tr>\n",
       "      <th>31530440</th>\n",
       "      <td>0</td>\n",
       "      <td>0</td>\n",
       "      <td>0</td>\n",
       "      <td>0</td>\n",
       "      <td>0</td>\n",
       "    </tr>\n",
       "    <tr>\n",
       "      <th>87102780</th>\n",
       "      <td>0</td>\n",
       "      <td>0</td>\n",
       "      <td>0</td>\n",
       "      <td>0</td>\n",
       "      <td>40</td>\n",
       "    </tr>\n",
       "    <tr>\n",
       "      <th>74032946</th>\n",
       "      <td>0</td>\n",
       "      <td>0</td>\n",
       "      <td>1</td>\n",
       "      <td>0</td>\n",
       "      <td>70</td>\n",
       "    </tr>\n",
       "    <tr>\n",
       "      <th>21964521</th>\n",
       "      <td>0</td>\n",
       "      <td>0</td>\n",
       "      <td>1</td>\n",
       "      <td>0</td>\n",
       "      <td>60</td>\n",
       "    </tr>\n",
       "  </tbody>\n",
       "</table>\n",
       "<p>76037 rows × 5 columns</p>\n",
       "</div>"
      ],
      "text/plain": [
       "          ClaimsTruncated  DaysInHospital  CharlsonIndex  LengthOfStay  \\\n",
       "MemberID                                                                 \n",
       "98324177                0               0              0             0   \n",
       "33899367                1               1              0             0   \n",
       "5481382                 0               1              0             0   \n",
       "69908334                0               0              0             0   \n",
       "29951458                0               0              0             0   \n",
       "...                   ...             ...            ...           ...   \n",
       "1702326                 0               0              0             0   \n",
       "31530440                0               0              0             0   \n",
       "87102780                0               0              0             0   \n",
       "74032946                0               0              1             0   \n",
       "21964521                0               0              1             0   \n",
       "\n",
       "          AgeAtFirstClaim  \n",
       "MemberID                   \n",
       "98324177               30  \n",
       "33899367               80  \n",
       "5481382                20  \n",
       "69908334               60  \n",
       "29951458               40  \n",
       "...                   ...  \n",
       "1702326                20  \n",
       "31530440                0  \n",
       "87102780               40  \n",
       "74032946               70  \n",
       "21964521               60  \n",
       "\n",
       "[76037 rows x 5 columns]"
      ]
     },
     "execution_count": 12,
     "metadata": {},
     "output_type": "execute_result"
    }
   ],
   "source": [
    "insert_and_one_hote_encode_column(data,m.Sex,'pol')\n",
    "data"
   ]
  },
  {
   "cell_type": "markdown",
   "metadata": {},
   "source": [
    "## 8\n",
    "Попытайтесь применить  one hot encoding к уже существующим в `data2` признакам или составить новые признаки по массиву `claims`."
   ]
  },
  {
   "cell_type": "code",
   "execution_count": 13,
   "metadata": {},
   "outputs": [
    {
     "data": {
      "text/html": [
       "<div>\n",
       "<style scoped>\n",
       "    .dataframe tbody tr th:only-of-type {\n",
       "        vertical-align: middle;\n",
       "    }\n",
       "\n",
       "    .dataframe tbody tr th {\n",
       "        vertical-align: top;\n",
       "    }\n",
       "\n",
       "    .dataframe thead th {\n",
       "        text-align: right;\n",
       "    }\n",
       "</style>\n",
       "<table border=\"1\" class=\"dataframe\">\n",
       "  <thead>\n",
       "    <tr style=\"text-align: right;\">\n",
       "      <th></th>\n",
       "      <th>ProviderID</th>\n",
       "      <th>Vendor</th>\n",
       "      <th>PCP</th>\n",
       "      <th>Year</th>\n",
       "      <th>Specialty</th>\n",
       "      <th>PlaceSvc</th>\n",
       "      <th>PayDelay</th>\n",
       "      <th>LengthOfStay</th>\n",
       "      <th>DSFS</th>\n",
       "      <th>PrimaryConditionGroup</th>\n",
       "      <th>CharlsonIndex</th>\n",
       "      <th>ProcedureGroup</th>\n",
       "      <th>SupLOS</th>\n",
       "    </tr>\n",
       "    <tr>\n",
       "      <th>MemberID</th>\n",
       "      <th></th>\n",
       "      <th></th>\n",
       "      <th></th>\n",
       "      <th></th>\n",
       "      <th></th>\n",
       "      <th></th>\n",
       "      <th></th>\n",
       "      <th></th>\n",
       "      <th></th>\n",
       "      <th></th>\n",
       "      <th></th>\n",
       "      <th></th>\n",
       "      <th></th>\n",
       "    </tr>\n",
       "  </thead>\n",
       "  <tbody>\n",
       "    <tr>\n",
       "      <th>42286978</th>\n",
       "      <td>8013252.0</td>\n",
       "      <td>172193.0</td>\n",
       "      <td>37796.0</td>\n",
       "      <td>Y1</td>\n",
       "      <td>Surgery</td>\n",
       "      <td>Office</td>\n",
       "      <td>28</td>\n",
       "      <td>0</td>\n",
       "      <td>8- 9 months</td>\n",
       "      <td>NEUMENT</td>\n",
       "      <td>0</td>\n",
       "      <td>MED</td>\n",
       "      <td>0</td>\n",
       "    </tr>\n",
       "    <tr>\n",
       "      <th>99829076</th>\n",
       "      <td>6721023.0</td>\n",
       "      <td>265273.0</td>\n",
       "      <td>91972.0</td>\n",
       "      <td>Y1</td>\n",
       "      <td>Rehabilitation</td>\n",
       "      <td>Office</td>\n",
       "      <td>162+</td>\n",
       "      <td>0</td>\n",
       "      <td>0- 1 month</td>\n",
       "      <td>TRAUMA</td>\n",
       "      <td>0</td>\n",
       "      <td>MED</td>\n",
       "      <td>0</td>\n",
       "    </tr>\n",
       "    <tr>\n",
       "      <th>54666321</th>\n",
       "      <td>9932074.0</td>\n",
       "      <td>35565.0</td>\n",
       "      <td>27294.0</td>\n",
       "      <td>Y1</td>\n",
       "      <td>Diagnostic Imaging</td>\n",
       "      <td>Office</td>\n",
       "      <td>29</td>\n",
       "      <td>0</td>\n",
       "      <td>0- 1 month</td>\n",
       "      <td>RESPR4</td>\n",
       "      <td>0</td>\n",
       "      <td>RAD</td>\n",
       "      <td>0</td>\n",
       "    </tr>\n",
       "    <tr>\n",
       "      <th>66951188</th>\n",
       "      <td>4699470.0</td>\n",
       "      <td>179509.0</td>\n",
       "      <td>75876.0</td>\n",
       "      <td>Y1</td>\n",
       "      <td>Diagnostic Imaging</td>\n",
       "      <td>Inpatient Hospital</td>\n",
       "      <td>51</td>\n",
       "      <td>0</td>\n",
       "      <td>0- 1 month</td>\n",
       "      <td>ROAMI</td>\n",
       "      <td>0</td>\n",
       "      <td>RAD</td>\n",
       "      <td>0</td>\n",
       "    </tr>\n",
       "    <tr>\n",
       "      <th>78859054</th>\n",
       "      <td>9121540.0</td>\n",
       "      <td>523791.0</td>\n",
       "      <td>21579.0</td>\n",
       "      <td>Y1</td>\n",
       "      <td>Emergency</td>\n",
       "      <td>Urgent Care</td>\n",
       "      <td>22</td>\n",
       "      <td>1</td>\n",
       "      <td>6- 7 months</td>\n",
       "      <td>HEART2</td>\n",
       "      <td>0</td>\n",
       "      <td>SDS</td>\n",
       "      <td>0</td>\n",
       "    </tr>\n",
       "    <tr>\n",
       "      <th>...</th>\n",
       "      <td>...</td>\n",
       "      <td>...</td>\n",
       "      <td>...</td>\n",
       "      <td>...</td>\n",
       "      <td>...</td>\n",
       "      <td>...</td>\n",
       "      <td>...</td>\n",
       "      <td>...</td>\n",
       "      <td>...</td>\n",
       "      <td>...</td>\n",
       "      <td>...</td>\n",
       "      <td>...</td>\n",
       "      <td>...</td>\n",
       "    </tr>\n",
       "    <tr>\n",
       "      <th>98535515</th>\n",
       "      <td>7638907.0</td>\n",
       "      <td>559727.0</td>\n",
       "      <td>83829.0</td>\n",
       "      <td>Y1</td>\n",
       "      <td>Emergency</td>\n",
       "      <td>Urgent Care</td>\n",
       "      <td>44</td>\n",
       "      <td>0</td>\n",
       "      <td>7- 8 months</td>\n",
       "      <td>TRAUMA</td>\n",
       "      <td>0</td>\n",
       "      <td>EM</td>\n",
       "      <td>0</td>\n",
       "    </tr>\n",
       "    <tr>\n",
       "      <th>1344508</th>\n",
       "      <td>4107701.0</td>\n",
       "      <td>164823.0</td>\n",
       "      <td>78718.0</td>\n",
       "      <td>Y1</td>\n",
       "      <td>Laboratory</td>\n",
       "      <td>Independent Lab</td>\n",
       "      <td>17</td>\n",
       "      <td>0</td>\n",
       "      <td>NaN</td>\n",
       "      <td>CATAST</td>\n",
       "      <td>0</td>\n",
       "      <td>SCS</td>\n",
       "      <td>0</td>\n",
       "    </tr>\n",
       "    <tr>\n",
       "      <th>73820095</th>\n",
       "      <td>1256697.0</td>\n",
       "      <td>789572.0</td>\n",
       "      <td>821.0</td>\n",
       "      <td>Y1</td>\n",
       "      <td>Surgery</td>\n",
       "      <td>Office</td>\n",
       "      <td>35</td>\n",
       "      <td>0</td>\n",
       "      <td>5- 6 months</td>\n",
       "      <td>MSC2a3</td>\n",
       "      <td>1</td>\n",
       "      <td>MED</td>\n",
       "      <td>0</td>\n",
       "    </tr>\n",
       "    <tr>\n",
       "      <th>22476463</th>\n",
       "      <td>7053364.0</td>\n",
       "      <td>240043.0</td>\n",
       "      <td>70171.0</td>\n",
       "      <td>Y1</td>\n",
       "      <td>Laboratory</td>\n",
       "      <td>Independent Lab</td>\n",
       "      <td>38</td>\n",
       "      <td>0</td>\n",
       "      <td>0- 1 month</td>\n",
       "      <td>MSC2a3</td>\n",
       "      <td>0</td>\n",
       "      <td>PL</td>\n",
       "      <td>0</td>\n",
       "    </tr>\n",
       "    <tr>\n",
       "      <th>57805129</th>\n",
       "      <td>3884005.0</td>\n",
       "      <td>523319.0</td>\n",
       "      <td>90756.0</td>\n",
       "      <td>Y1</td>\n",
       "      <td>Internal</td>\n",
       "      <td>Office</td>\n",
       "      <td>15</td>\n",
       "      <td>0</td>\n",
       "      <td>4- 5 months</td>\n",
       "      <td>SKNAUT</td>\n",
       "      <td>1</td>\n",
       "      <td>EM</td>\n",
       "      <td>0</td>\n",
       "    </tr>\n",
       "  </tbody>\n",
       "</table>\n",
       "<p>865689 rows × 13 columns</p>\n",
       "</div>"
      ],
      "text/plain": [
       "          ProviderID    Vendor      PCP Year           Specialty  \\\n",
       "MemberID                                                           \n",
       "42286978   8013252.0  172193.0  37796.0   Y1             Surgery   \n",
       "99829076   6721023.0  265273.0  91972.0   Y1      Rehabilitation   \n",
       "54666321   9932074.0   35565.0  27294.0   Y1  Diagnostic Imaging   \n",
       "66951188   4699470.0  179509.0  75876.0   Y1  Diagnostic Imaging   \n",
       "78859054   9121540.0  523791.0  21579.0   Y1           Emergency   \n",
       "...              ...       ...      ...  ...                 ...   \n",
       "98535515   7638907.0  559727.0  83829.0   Y1           Emergency   \n",
       "1344508    4107701.0  164823.0  78718.0   Y1          Laboratory   \n",
       "73820095   1256697.0  789572.0    821.0   Y1             Surgery   \n",
       "22476463   7053364.0  240043.0  70171.0   Y1          Laboratory   \n",
       "57805129   3884005.0  523319.0  90756.0   Y1            Internal   \n",
       "\n",
       "                    PlaceSvc PayDelay  LengthOfStay         DSFS  \\\n",
       "MemberID                                                           \n",
       "42286978              Office       28             0  8- 9 months   \n",
       "99829076              Office     162+             0   0- 1 month   \n",
       "54666321              Office       29             0   0- 1 month   \n",
       "66951188  Inpatient Hospital       51             0   0- 1 month   \n",
       "78859054         Urgent Care       22             1  6- 7 months   \n",
       "...                      ...      ...           ...          ...   \n",
       "98535515         Urgent Care       44             0  7- 8 months   \n",
       "1344508      Independent Lab       17             0          NaN   \n",
       "73820095              Office       35             0  5- 6 months   \n",
       "22476463     Independent Lab       38             0   0- 1 month   \n",
       "57805129              Office       15             0  4- 5 months   \n",
       "\n",
       "         PrimaryConditionGroup  CharlsonIndex ProcedureGroup  SupLOS  \n",
       "MemberID                                                              \n",
       "42286978               NEUMENT              0            MED       0  \n",
       "99829076                TRAUMA              0            MED       0  \n",
       "54666321                RESPR4              0            RAD       0  \n",
       "66951188                 ROAMI              0            RAD       0  \n",
       "78859054                HEART2              0            SDS       0  \n",
       "...                        ...            ...            ...     ...  \n",
       "98535515                TRAUMA              0             EM       0  \n",
       "1344508                 CATAST              0            SCS       0  \n",
       "73820095                MSC2a3              1            MED       0  \n",
       "22476463                MSC2a3              0             PL       0  \n",
       "57805129                SKNAUT              1             EM       0  \n",
       "\n",
       "[865689 rows x 13 columns]"
      ]
     },
     "execution_count": 13,
     "metadata": {},
     "output_type": "execute_result"
    }
   ],
   "source": [
    "claims"
   ]
  },
  {
   "cell_type": "markdown",
   "metadata": {},
   "source": [
    "Попробуем составить алгоритм, который попытается найти наибольшее значение ROC-AUC"
   ]
  },
  {
   "cell_type": "code",
   "execution_count": 20,
   "metadata": {
    "scrolled": false
   },
   "outputs": [
    {
     "data": {
      "image/png": "[encoded data removed]",
      "text/plain": [
       "<Figure size 432x288 with 1 Axes>"
      ]
     },
     "metadata": {
      "needs_background": "light"
     },
     "output_type": "display_data"
    },
    {
     "name": "stdout",
     "output_type": "stream",
     "text": [
      "0.5437467895966168\n"
     ]
    }
   ],
   "source": [
    "list_to_walk = [claims.Specialty,claims.PlaceSvc,claims.LengthOfStay,claims.DSFS,claims.PrimaryConditionGroup,\n",
    "                claims.ProcedureGroup,claims.SupLOS, f_Charlson,f_LengthOfStay,m.AgeAtFirstClaim]\n",
    "list_to_walk_one_\n",
    "\n",
    "set_added_names = set()\n",
    "data = reset_data(data)\n",
    "curr_max_res= calcAUC(data)  "
   ]
  },
  {
   "cell_type": "code",
   "execution_count": 24,
   "metadata": {},
   "outputs": [
    {
     "name": "stdout",
     "output_type": "stream",
     "text": [
      "Specialty\n",
      "PlaceSvc\n",
      "LengthOfStay\n"
     ]
    },
    {
     "data": {
      "image/png": "[encoded data removed]",
      "text/plain": [
       "<Figure size 432x288 with 1 Axes>"
      ]
     },
     "metadata": {
      "needs_background": "light"
     },
     "output_type": "display_data"
    },
    {
     "name": "stdout",
     "output_type": "stream",
     "text": [
      "0.6946392360586471\n",
      "DSFS\n",
      "PrimaryConditionGroup\n",
      "ProcedureGroup\n",
      "SupLOS\n"
     ]
    },
    {
     "data": {
      "image/png": "[encoded data removed]",
      "text/plain": [
       "<Figure size 432x288 with 1 Axes>"
      ]
     },
     "metadata": {
      "needs_background": "light"
     },
     "output_type": "display_data"
    },
    {
     "name": "stdout",
     "output_type": "stream",
     "text": [
      "0.6946781541314565\n",
      "CharlsonIndex\n",
      "LengthOfStay\n"
     ]
    },
    {
     "data": {
      "image/png": "[encoded data removed]",
      "text/plain": [
       "<Figure size 432x288 with 1 Axes>"
      ]
     },
     "metadata": {
      "needs_background": "light"
     },
     "output_type": "display_data"
    },
    {
     "name": "stdout",
     "output_type": "stream",
     "text": [
      "0.6955481082405954\n",
      "AgeAtFirstClaim\n"
     ]
    },
    {
     "data": {
      "image/png": "[encoded data removed]",
      "text/plain": [
       "<Figure size 432x288 with 1 Axes>"
      ]
     },
     "metadata": {
      "needs_background": "light"
     },
     "output_type": "display_data"
    },
    {
     "name": "stdout",
     "output_type": "stream",
     "text": [
      "0.6936981373715555\n"
     ]
    },
    {
     "data": {
      "image/png": "[encoded data removed]",
      "text/plain": [
       "<Figure size 432x288 with 1 Axes>"
      ]
     },
     "metadata": {
      "needs_background": "light"
     },
     "output_type": "display_data"
    },
    {
     "name": "stdout",
     "output_type": "stream",
     "text": [
      "0.695131724317157\n"
     ]
    },
    {
     "data": {
      "image/png": "[encoded data removed]",
      "text/plain": [
       "<Figure size 432x288 with 1 Axes>"
      ]
     },
     "metadata": {
      "needs_background": "light"
     },
     "output_type": "display_data"
    },
    {
     "name": "stdout",
     "output_type": "stream",
     "text": [
      "0.6950501544515502\n"
     ]
    },
    {
     "data": {
      "image/png": "[encoded data removed]",
      "text/plain": [
       "<Figure size 432x288 with 1 Axes>"
      ]
     },
     "metadata": {
      "needs_background": "light"
     },
     "output_type": "display_data"
    },
    {
     "name": "stdout",
     "output_type": "stream",
     "text": [
      "0.6952105852497512\n"
     ]
    },
    {
     "data": {
      "image/png": "[encoded data removed]",
      "text/plain": [
       "<Figure size 432x288 with 1 Axes>"
      ]
     },
     "metadata": {
      "needs_background": "light"
     },
     "output_type": "display_data"
    },
    {
     "name": "stdout",
     "output_type": "stream",
     "text": [
      "0.6916544023233165\n"
     ]
    },
    {
     "data": {
      "image/png": "[encoded data removed]",
      "text/plain": [
       "<Figure size 432x288 with 1 Axes>"
      ]
     },
     "metadata": {
      "needs_background": "light"
     },
     "output_type": "display_data"
    },
    {
     "name": "stdout",
     "output_type": "stream",
     "text": [
      "0.6925523302040524\n"
     ]
    },
    {
     "data": {
      "image/png": "[encoded data removed]",
      "text/plain": [
       "<Figure size 432x288 with 1 Axes>"
      ]
     },
     "metadata": {
      "needs_background": "light"
     },
     "output_type": "display_data"
    },
    {
     "name": "stdout",
     "output_type": "stream",
     "text": [
      "0.692708288482353\n"
     ]
    },
    {
     "data": {
      "image/png": "[encoded data removed]",
      "text/plain": [
       "<Figure size 432x288 with 1 Axes>"
      ]
     },
     "metadata": {
      "needs_background": "light"
     },
     "output_type": "display_data"
    },
    {
     "name": "stdout",
     "output_type": "stream",
     "text": [
      "0.694943936737967\n"
     ]
    },
    {
     "data": {
      "image/png": "[encoded data removed]",
      "text/plain": [
       "<Figure size 432x288 with 1 Axes>"
      ]
     },
     "metadata": {
      "needs_background": "light"
     },
     "output_type": "display_data"
    },
    {
     "name": "stdout",
     "output_type": "stream",
     "text": [
      "0.6707283237826895\n"
     ]
    }
   ],
   "source": [
    "for i in list_to_walk:\n",
    "    print(i.name)\n",
    "    if (i.name not in set_added_names):\n",
    "        data_test = insert_and_one_hote_encode_column(data,i,i.name)\n",
    "        res_new = calcAUC(data_test)\n",
    "        if (res_new) > curr_max_res:\n",
    "            curr_max_res = res_new\n",
    "            set_added_names.add(i.name)\n",
    "            data = data_test\n",
    "for i in list_to_walk:\n",
    "    if i.name in set_added_names:\n",
    "        data_test = remove_one_hot_encoded(data,i,i.name)\n",
    "        res_new = calcAUC(data_test)\n",
    "        if (res_new) > curr_max_res:\n",
    "            curr_max_res = res_new\n",
    "            set_added_names.remove(i.name)\n",
    "            data = data_test\n",
    "    "
   ]
  },
  {
   "cell_type": "markdown",
   "metadata": {},
   "source": [
    "Построившему матрицу объектов признаков, для которой логистическая регрессия работает с наилучшим качеством: +5 бонусных баллов."
   ]
  },
  {
   "cell_type": "code",
   "execution_count": 25,
   "metadata": {},
   "outputs": [
    {
     "data": {
      "text/plain": [
       "0.6955481082405954"
      ]
     },
     "execution_count": 25,
     "metadata": {},
     "output_type": "execute_result"
    }
   ],
   "source": [
    "curr_max_res"
   ]
  },
  {
   "cell_type": "code",
   "execution_count": 26,
   "metadata": {},
   "outputs": [
    {
     "data": {
      "text/plain": [
       "{'AgeAtFirstClaim',\n",
       " 'CharlsonIndex',\n",
       " 'DSFS',\n",
       " 'LengthOfStay',\n",
       " 'PlaceSvc',\n",
       " 'PrimaryConditionGroup',\n",
       " 'ProcedureGroup',\n",
       " 'Specialty'}"
      ]
     },
     "execution_count": 26,
     "metadata": {},
     "output_type": "execute_result"
    }
   ],
   "source": [
    "set_added_names"
   ]
  },
  {
   "cell_type": "code",
   "execution_count": null,
   "metadata": {},
   "outputs": [],
   "source": []
  }
 ],
 "metadata": {
  "kernelspec": {
   "display_name": "Python 3",
   "language": "python",
   "name": "python3"
  },
  "language_info": {
   "codemirror_mode": {
    "name": "ipython",
    "version": 3
   },
   "file_extension": ".py",
   "mimetype": "text/x-python",
   "name": "python",
   "nbconvert_exporter": "python",
   "pygments_lexer": "ipython3",
   "version": "3.7.7"
  }
 },
 "nbformat": 4,
 "nbformat_minor": 2
}
