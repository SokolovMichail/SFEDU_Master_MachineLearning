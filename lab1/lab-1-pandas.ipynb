{
 "cells": [
  {
   "cell_type": "markdown",
   "metadata": {},
   "source": [
    "## Полезные ссылки"
   ]
  },
  {
   "cell_type": "markdown",
   "metadata": {},
   "source": [
    "**Начало работы**\n",
    "\n",
    "- Anaconda (дистрибутив для Python, содержащий в том числе Jupyter Notebook и сам Python): https://www.anaconda.com/download/ - рекомендуется версия Python 3.6 или больше; не забудьте выбрать нужную операционную систему!\n",
    "- документация по Jupyter: https://jupyter.readthedocs.io/en/latest/\n",
    "- документация по pip (для установки пакетов в Python с помощью pip install): https://pip.readthedocs.io/en/latest/\n",
    "- PyCharm: https://www.jetbrains.com/pycharm/\n",
    "\n",
    "**Общее**\n",
    "\n",
    "- для любых вопросов: https://www.google.com/\n",
    "- для (почти) любых ответов: https://stackoverflow.com/\n",
    "- профессиональный информационно-аналитический ресурс, посвященный машинному обучению, распознаванию образов и интеллектуальному анализу данных: http://www.machinelearning.ru/wiki/index.php?title=Заглавная_страница\n",
    "- A visual introduction to machine learning: http://www.r2d3.us/visual-intro-to-machine-learning-part-1/\n",
    "\n",
    "**Python & Jupyter**\n",
    "\n",
    "- A Crash Course in Python for Scientists: http://nbviewer.jupyter.org/gist/rpmuller/5920182\n",
    "- A Gallery of interesting Jupyter Notebooks: https://github.com/jupyter/jupyter/wiki/A-gallery-of-interesting-Jupyter-Notebooks\n",
    "- Markdown Cheatsheet: https://github.com/adam-p/markdown-here/wiki/Markdown-Cheatsheet\n",
    "\n",
    "**pandas**\n",
    "\n",
    "- документация: http://pandas.pydata.org/pandas-docs/stable/\n",
    "- 10 minutes to pandas: https://pandas.pydata.org/pandas-docs/stable/10min.html\n",
    "- Pandas Tutorial: DataFrames in Python: https://www.datacamp.com/community/tutorials/pandas-tutorial-dataframe-python\n",
    "- Cheet Sheet: https://www.analyticsvidhya.com/blog/2015/07/11-steps-perform-data-analysis-pandas-python/\n",
    "- Visualization: http://pandas.pydata.org/pandas-docs/stable/visualization.html\n",
    "\n",
    "**sklearn**\n",
    "\n",
    "- документация и многое другое: http://scikit-learn.org/stable/\n",
    "\n",
    "**Другие библиотеки**\n",
    "\n",
    "- matplotlib: https://matplotlib.org/users/pyplot_tutorial.html\n",
    "- seaborn: http://seaborn.pydata.org/"
   ]
  },
  {
   "cell_type": "markdown",
   "metadata": {},
   "source": [
    "## Лабораторная работа 1: работа с Pandas.\n",
    "\n",
    "Pandas - это библиотека Python, предоставляющая широкие возможности для анализа данных. С ее помощью очень удобно загружать, обрабатывать и анализировать табличные данные с помощью SQL-подобных запросов."
   ]
  },
  {
   "cell_type": "code",
   "execution_count": 1,
   "metadata": {},
   "outputs": [],
   "source": [
    "import pandas as pd"
   ]
  },
  {
   "cell_type": "markdown",
   "metadata": {},
   "source": [
    "Основными структурами данных в Pandas являются классы Series и DataFrame. Первый из них представляет собой одномерный индексированный массив данных некоторого фиксированного типа. Второй - это двумерная структура данных, представляющая собой таблицу, каждый столбец которой содержит данные одного типа. Можно представлять её как словарь объектов типа Series."
   ]
  },
  {
   "cell_type": "markdown",
   "metadata": {},
   "source": [
    "С помощью библиотеки Pandas займемся анализом данных. Будем работать с данными о клиентах банка, который интересуется, произойдет ли просрочка платежа на 90 и более дней при выдаче кредита. "
   ]
  },
  {
   "cell_type": "markdown",
   "metadata": {},
   "source": [
    "### 1\n",
    "Прочтите данные из файла data.csv\n",
    "\n",
    "*Функции, которые могут пригодиться при решении: `pd.read_csv(..., delimiter=',')`*"
   ]
  },
  {
   "cell_type": "code",
   "execution_count": 2,
   "metadata": {},
   "outputs": [],
   "source": [
    "# место для кода\n",
    "data = pd.read_csv(\"data.csv\",delimiter=\",\")"
   ]
  },
  {
   "cell_type": "markdown",
   "metadata": {},
   "source": [
    "### 2\n",
    "Выведите описание прочтенных данных. \n",
    "\n",
    "*Функции, которые могут пригодиться при решении: `.describe()`*"
   ]
  },
  {
   "cell_type": "code",
   "execution_count": 3,
   "metadata": {},
   "outputs": [
    {
     "data": {
      "text/html": [
       "<div>\n",
       "<style scoped>\n",
       "    .dataframe tbody tr th:only-of-type {\n",
       "        vertical-align: middle;\n",
       "    }\n",
       "\n",
       "    .dataframe tbody tr th {\n",
       "        vertical-align: top;\n",
       "    }\n",
       "\n",
       "    .dataframe thead th {\n",
       "        text-align: right;\n",
       "    }\n",
       "</style>\n",
       "<table border=\"1\" class=\"dataframe\">\n",
       "  <thead>\n",
       "    <tr style=\"text-align: right;\">\n",
       "      <th></th>\n",
       "      <th>Id</th>\n",
       "      <th>SeriousDlqin2yrs</th>\n",
       "      <th>RevolvingUtilizationOfUnsecuredLines</th>\n",
       "      <th>age</th>\n",
       "      <th>NumberOfTime30-59DaysPastDueNotWorse</th>\n",
       "      <th>DebtRatio</th>\n",
       "      <th>MonthlyIncome</th>\n",
       "      <th>NumberOfOpenCreditLinesAndLoans</th>\n",
       "      <th>NumberOfTimes90DaysLate</th>\n",
       "      <th>NumberRealEstateLoansOrLines</th>\n",
       "      <th>NumberOfTime60-89DaysPastDueNotWorse</th>\n",
       "      <th>NumberOfDependents</th>\n",
       "    </tr>\n",
       "  </thead>\n",
       "  <tbody>\n",
       "    <tr>\n",
       "      <th>count</th>\n",
       "      <td>1350.000000</td>\n",
       "      <td>1350.000000</td>\n",
       "      <td>1350.000000</td>\n",
       "      <td>1350.000000</td>\n",
       "      <td>1350.000000</td>\n",
       "      <td>1350.000000</td>\n",
       "      <td>1094.000000</td>\n",
       "      <td>1350.000000</td>\n",
       "      <td>1350.000000</td>\n",
       "      <td>1350.000000</td>\n",
       "      <td>1350.000000</td>\n",
       "      <td>1307.000000</td>\n",
       "    </tr>\n",
       "    <tr>\n",
       "      <th>mean</th>\n",
       "      <td>675.500000</td>\n",
       "      <td>0.060000</td>\n",
       "      <td>3.577895</td>\n",
       "      <td>52.048889</td>\n",
       "      <td>0.257778</td>\n",
       "      <td>356.123363</td>\n",
       "      <td>6438.473492</td>\n",
       "      <td>8.434074</td>\n",
       "      <td>0.080000</td>\n",
       "      <td>0.986667</td>\n",
       "      <td>0.062222</td>\n",
       "      <td>0.737567</td>\n",
       "    </tr>\n",
       "    <tr>\n",
       "      <th>std</th>\n",
       "      <td>389.855743</td>\n",
       "      <td>0.237575</td>\n",
       "      <td>84.914699</td>\n",
       "      <td>15.009875</td>\n",
       "      <td>0.751718</td>\n",
       "      <td>1156.603074</td>\n",
       "      <td>7849.754675</td>\n",
       "      <td>5.129287</td>\n",
       "      <td>0.376634</td>\n",
       "      <td>1.008401</td>\n",
       "      <td>0.306555</td>\n",
       "      <td>1.086949</td>\n",
       "    </tr>\n",
       "    <tr>\n",
       "      <th>min</th>\n",
       "      <td>1.000000</td>\n",
       "      <td>0.000000</td>\n",
       "      <td>0.000000</td>\n",
       "      <td>22.000000</td>\n",
       "      <td>0.000000</td>\n",
       "      <td>0.000000</td>\n",
       "      <td>0.000000</td>\n",
       "      <td>0.000000</td>\n",
       "      <td>0.000000</td>\n",
       "      <td>0.000000</td>\n",
       "      <td>0.000000</td>\n",
       "      <td>0.000000</td>\n",
       "    </tr>\n",
       "    <tr>\n",
       "      <th>25%</th>\n",
       "      <td>338.250000</td>\n",
       "      <td>0.000000</td>\n",
       "      <td>0.031140</td>\n",
       "      <td>40.000000</td>\n",
       "      <td>0.000000</td>\n",
       "      <td>0.175125</td>\n",
       "      <td>3300.000000</td>\n",
       "      <td>5.000000</td>\n",
       "      <td>0.000000</td>\n",
       "      <td>0.000000</td>\n",
       "      <td>0.000000</td>\n",
       "      <td>0.000000</td>\n",
       "    </tr>\n",
       "    <tr>\n",
       "      <th>50%</th>\n",
       "      <td>675.500000</td>\n",
       "      <td>0.000000</td>\n",
       "      <td>0.156891</td>\n",
       "      <td>52.000000</td>\n",
       "      <td>0.000000</td>\n",
       "      <td>0.367049</td>\n",
       "      <td>5222.500000</td>\n",
       "      <td>8.000000</td>\n",
       "      <td>0.000000</td>\n",
       "      <td>1.000000</td>\n",
       "      <td>0.000000</td>\n",
       "      <td>0.000000</td>\n",
       "    </tr>\n",
       "    <tr>\n",
       "      <th>75%</th>\n",
       "      <td>1012.750000</td>\n",
       "      <td>0.000000</td>\n",
       "      <td>0.543145</td>\n",
       "      <td>63.000000</td>\n",
       "      <td>0.000000</td>\n",
       "      <td>0.807001</td>\n",
       "      <td>8055.250000</td>\n",
       "      <td>11.000000</td>\n",
       "      <td>0.000000</td>\n",
       "      <td>2.000000</td>\n",
       "      <td>0.000000</td>\n",
       "      <td>1.000000</td>\n",
       "    </tr>\n",
       "    <tr>\n",
       "      <th>max</th>\n",
       "      <td>1350.000000</td>\n",
       "      <td>1.000000</td>\n",
       "      <td>2340.000000</td>\n",
       "      <td>97.000000</td>\n",
       "      <td>10.000000</td>\n",
       "      <td>15466.000000</td>\n",
       "      <td>208333.000000</td>\n",
       "      <td>31.000000</td>\n",
       "      <td>5.000000</td>\n",
       "      <td>8.000000</td>\n",
       "      <td>5.000000</td>\n",
       "      <td>8.000000</td>\n",
       "    </tr>\n",
       "  </tbody>\n",
       "</table>\n",
       "</div>"
      ],
      "text/plain": [
       "                Id  SeriousDlqin2yrs  RevolvingUtilizationOfUnsecuredLines  \\\n",
       "count  1350.000000       1350.000000                           1350.000000   \n",
       "mean    675.500000          0.060000                              3.577895   \n",
       "std     389.855743          0.237575                             84.914699   \n",
       "min       1.000000          0.000000                              0.000000   \n",
       "25%     338.250000          0.000000                              0.031140   \n",
       "50%     675.500000          0.000000                              0.156891   \n",
       "75%    1012.750000          0.000000                              0.543145   \n",
       "max    1350.000000          1.000000                           2340.000000   \n",
       "\n",
       "               age  NumberOfTime30-59DaysPastDueNotWorse     DebtRatio  \\\n",
       "count  1350.000000                           1350.000000   1350.000000   \n",
       "mean     52.048889                              0.257778    356.123363   \n",
       "std      15.009875                              0.751718   1156.603074   \n",
       "min      22.000000                              0.000000      0.000000   \n",
       "25%      40.000000                              0.000000      0.175125   \n",
       "50%      52.000000                              0.000000      0.367049   \n",
       "75%      63.000000                              0.000000      0.807001   \n",
       "max      97.000000                             10.000000  15466.000000   \n",
       "\n",
       "       MonthlyIncome  NumberOfOpenCreditLinesAndLoans  \\\n",
       "count    1094.000000                      1350.000000   \n",
       "mean     6438.473492                         8.434074   \n",
       "std      7849.754675                         5.129287   \n",
       "min         0.000000                         0.000000   \n",
       "25%      3300.000000                         5.000000   \n",
       "50%      5222.500000                         8.000000   \n",
       "75%      8055.250000                        11.000000   \n",
       "max    208333.000000                        31.000000   \n",
       "\n",
       "       NumberOfTimes90DaysLate  NumberRealEstateLoansOrLines  \\\n",
       "count              1350.000000                   1350.000000   \n",
       "mean                  0.080000                      0.986667   \n",
       "std                   0.376634                      1.008401   \n",
       "min                   0.000000                      0.000000   \n",
       "25%                   0.000000                      0.000000   \n",
       "50%                   0.000000                      1.000000   \n",
       "75%                   0.000000                      2.000000   \n",
       "max                   5.000000                      8.000000   \n",
       "\n",
       "       NumberOfTime60-89DaysPastDueNotWorse  NumberOfDependents  \n",
       "count                           1350.000000         1307.000000  \n",
       "mean                               0.062222            0.737567  \n",
       "std                                0.306555            1.086949  \n",
       "min                                0.000000            0.000000  \n",
       "25%                                0.000000            0.000000  \n",
       "50%                                0.000000            0.000000  \n",
       "75%                                0.000000            1.000000  \n",
       "max                                5.000000            8.000000  "
      ]
     },
     "execution_count": 3,
     "metadata": {},
     "output_type": "execute_result"
    }
   ],
   "source": [
    "# место для кода\n",
    "data.describe()"
   ]
  },
  {
   "cell_type": "markdown",
   "metadata": {},
   "source": [
    "### 3\n",
    "Отобразите несколько первых и несколько последних записей.\n",
    "\n",
    "*Функции, которые могут пригодиться при решении: `.head(), .tail()`*\n",
    "\n",
    "*Какие параметры можно передать этим функциям?*"
   ]
  },
  {
   "cell_type": "code",
   "execution_count": 4,
   "metadata": {},
   "outputs": [
    {
     "data": {
      "text/html": [
       "<div>\n",
       "<style scoped>\n",
       "    .dataframe tbody tr th:only-of-type {\n",
       "        vertical-align: middle;\n",
       "    }\n",
       "\n",
       "    .dataframe tbody tr th {\n",
       "        vertical-align: top;\n",
       "    }\n",
       "\n",
       "    .dataframe thead th {\n",
       "        text-align: right;\n",
       "    }\n",
       "</style>\n",
       "<table border=\"1\" class=\"dataframe\">\n",
       "  <thead>\n",
       "    <tr style=\"text-align: right;\">\n",
       "      <th></th>\n",
       "      <th>Id</th>\n",
       "      <th>SeriousDlqin2yrs</th>\n",
       "      <th>RevolvingUtilizationOfUnsecuredLines</th>\n",
       "      <th>age</th>\n",
       "      <th>NumberOfTime30-59DaysPastDueNotWorse</th>\n",
       "      <th>DebtRatio</th>\n",
       "      <th>MonthlyIncome</th>\n",
       "      <th>NumberOfOpenCreditLinesAndLoans</th>\n",
       "      <th>NumberOfTimes90DaysLate</th>\n",
       "      <th>NumberRealEstateLoansOrLines</th>\n",
       "      <th>NumberOfTime60-89DaysPastDueNotWorse</th>\n",
       "      <th>NumberOfDependents</th>\n",
       "    </tr>\n",
       "  </thead>\n",
       "  <tbody>\n",
       "    <tr>\n",
       "      <th>1347</th>\n",
       "      <td>1348</td>\n",
       "      <td>0</td>\n",
       "      <td>0.022780</td>\n",
       "      <td>53</td>\n",
       "      <td>0</td>\n",
       "      <td>0.323068</td>\n",
       "      <td>10000.0</td>\n",
       "      <td>14</td>\n",
       "      <td>0</td>\n",
       "      <td>2</td>\n",
       "      <td>0</td>\n",
       "      <td>1.0</td>\n",
       "    </tr>\n",
       "    <tr>\n",
       "      <th>1348</th>\n",
       "      <td>1349</td>\n",
       "      <td>0</td>\n",
       "      <td>0.036934</td>\n",
       "      <td>56</td>\n",
       "      <td>0</td>\n",
       "      <td>0.287935</td>\n",
       "      <td>8362.0</td>\n",
       "      <td>8</td>\n",
       "      <td>0</td>\n",
       "      <td>1</td>\n",
       "      <td>0</td>\n",
       "      <td>2.0</td>\n",
       "    </tr>\n",
       "    <tr>\n",
       "      <th>1349</th>\n",
       "      <td>1350</td>\n",
       "      <td>0</td>\n",
       "      <td>0.000000</td>\n",
       "      <td>62</td>\n",
       "      <td>0</td>\n",
       "      <td>1463.000000</td>\n",
       "      <td>NaN</td>\n",
       "      <td>5</td>\n",
       "      <td>0</td>\n",
       "      <td>1</td>\n",
       "      <td>0</td>\n",
       "      <td>0.0</td>\n",
       "    </tr>\n",
       "  </tbody>\n",
       "</table>\n",
       "</div>"
      ],
      "text/plain": [
       "        Id  SeriousDlqin2yrs  RevolvingUtilizationOfUnsecuredLines  age  \\\n",
       "1347  1348                 0                              0.022780   53   \n",
       "1348  1349                 0                              0.036934   56   \n",
       "1349  1350                 0                              0.000000   62   \n",
       "\n",
       "      NumberOfTime30-59DaysPastDueNotWorse    DebtRatio  MonthlyIncome  \\\n",
       "1347                                     0     0.323068        10000.0   \n",
       "1348                                     0     0.287935         8362.0   \n",
       "1349                                     0  1463.000000            NaN   \n",
       "\n",
       "      NumberOfOpenCreditLinesAndLoans  NumberOfTimes90DaysLate  \\\n",
       "1347                               14                        0   \n",
       "1348                                8                        0   \n",
       "1349                                5                        0   \n",
       "\n",
       "      NumberRealEstateLoansOrLines  NumberOfTime60-89DaysPastDueNotWorse  \\\n",
       "1347                             2                                     0   \n",
       "1348                             1                                     0   \n",
       "1349                             1                                     0   \n",
       "\n",
       "      NumberOfDependents  \n",
       "1347                 1.0  \n",
       "1348                 2.0  \n",
       "1349                 0.0  "
      ]
     },
     "execution_count": 4,
     "metadata": {},
     "output_type": "execute_result"
    }
   ],
   "source": [
    "# место для кода\n",
    "data.head(15) #Первые 15 записей\n",
    "data.tail(3) #Последние 3 записи\n",
    "#Единственный параметр n - кол-во записей"
   ]
  },
  {
   "cell_type": "markdown",
   "metadata": {},
   "source": [
    "### 4\n",
    "Прочтите в файле `DataDictionary-ru.txt`, что означают столбцы матрицы. Какому типу принадлежит каждый столбец (вещественный, целый, категориальный)?"
   ]
  },
  {
   "cell_type": "markdown",
   "metadata": {},
   "source": [
    "Категориальные признаки: SeriousDlqin2yrs\n",
    "Вещественные признаки: RevolvingUtilizationOfUnsecuredLines, DebtRatio, MonthlyIncome       \n",
    "Целые признаки:age, NumberOfTime30-59DaysPastDueNotWorse, NumberOfOpenCreditLinesAndLoans, NumberOfTimes90DaysLate,  \n",
    "NumberRealEstateLoansOrLines, NumberOfTime60-89DaysPastDueNotWorse,   NumberOfDependents  "
   ]
  },
  {
   "cell_type": "markdown",
   "metadata": {},
   "source": [
    "### 5\n",
    "\n",
    "Заметьте, что столбец `DebtRatio` содержит неправдоподобные данные. Только значения, соответствующие известному месячному доходу, являются отношениями. Остальные – абсолютные значения месячных выплат процентов. \n",
    "\n",
    "Исправьте данные, сделав все значения столбца `DebtRatio` абсолютными (умножьте их на `MonthlyIncome`).  Чтобы ваша программа быстро работала на полных данных, постарайтесь не использовать цикл."
   ]
  },
  {
   "cell_type": "markdown",
   "metadata": {},
   "source": [
    "#### *Функции, которые могут пригодиться при решении:*\n",
    "\n",
    "Обращение к элементам DataFrame:\n",
    "  * элемент: `data.loc[i, 'названиеСтолбца']`\n",
    "  * столбец: `data['названиеСтолбца']`\n",
    "  * подматрица: `data.loc[a:b, списокНазванийСтолбцов]`\n",
    "\n",
    "Условная индексация:\n",
    "* `data.loc[data['столбец'] > 20, списокНазванийСтолбцов]`\n",
    "\n",
    "лучше писать так:\n",
    "\n",
    "* `i = data['столбец'] > 20`  # вектор `True` и `False`\n",
    "* `data.loc[i, 'названиеСтолбца']`\n",
    "\n",
    "У подматриц номера строк наследуются от исходной.\n",
    "\n",
    "* `pandas.isnull(скаляр или массив)` - проверка, является ли значение неопределенным (`NaN`)\n",
    "* `pandas.notnull(скаляр или массив)` - проверка, является ли значение определенным (не `NaN`)"
   ]
  },
  {
   "cell_type": "code",
   "execution_count": 5,
   "metadata": {},
   "outputs": [
    {
     "data": {
      "text/html": [
       "<div>\n",
       "<style scoped>\n",
       "    .dataframe tbody tr th:only-of-type {\n",
       "        vertical-align: middle;\n",
       "    }\n",
       "\n",
       "    .dataframe tbody tr th {\n",
       "        vertical-align: top;\n",
       "    }\n",
       "\n",
       "    .dataframe thead th {\n",
       "        text-align: right;\n",
       "    }\n",
       "</style>\n",
       "<table border=\"1\" class=\"dataframe\">\n",
       "  <thead>\n",
       "    <tr style=\"text-align: right;\">\n",
       "      <th></th>\n",
       "      <th>Id</th>\n",
       "      <th>SeriousDlqin2yrs</th>\n",
       "      <th>RevolvingUtilizationOfUnsecuredLines</th>\n",
       "      <th>age</th>\n",
       "      <th>NumberOfTime30-59DaysPastDueNotWorse</th>\n",
       "      <th>DebtRatio</th>\n",
       "      <th>MonthlyIncome</th>\n",
       "      <th>NumberOfOpenCreditLinesAndLoans</th>\n",
       "      <th>NumberOfTimes90DaysLate</th>\n",
       "      <th>NumberRealEstateLoansOrLines</th>\n",
       "      <th>NumberOfTime60-89DaysPastDueNotWorse</th>\n",
       "      <th>NumberOfDependents</th>\n",
       "    </tr>\n",
       "  </thead>\n",
       "  <tbody>\n",
       "    <tr>\n",
       "      <th>0</th>\n",
       "      <td>1</td>\n",
       "      <td>1</td>\n",
       "      <td>0.766127</td>\n",
       "      <td>45</td>\n",
       "      <td>2</td>\n",
       "      <td>0.802982</td>\n",
       "      <td>9120.0</td>\n",
       "      <td>13</td>\n",
       "      <td>0</td>\n",
       "      <td>6</td>\n",
       "      <td>0</td>\n",
       "      <td>2.0</td>\n",
       "    </tr>\n",
       "    <tr>\n",
       "      <th>1</th>\n",
       "      <td>2</td>\n",
       "      <td>0</td>\n",
       "      <td>0.957151</td>\n",
       "      <td>40</td>\n",
       "      <td>0</td>\n",
       "      <td>0.121876</td>\n",
       "      <td>2600.0</td>\n",
       "      <td>4</td>\n",
       "      <td>0</td>\n",
       "      <td>0</td>\n",
       "      <td>0</td>\n",
       "      <td>1.0</td>\n",
       "    </tr>\n",
       "    <tr>\n",
       "      <th>2</th>\n",
       "      <td>3</td>\n",
       "      <td>0</td>\n",
       "      <td>0.658180</td>\n",
       "      <td>38</td>\n",
       "      <td>1</td>\n",
       "      <td>0.085113</td>\n",
       "      <td>3042.0</td>\n",
       "      <td>2</td>\n",
       "      <td>1</td>\n",
       "      <td>0</td>\n",
       "      <td>0</td>\n",
       "      <td>0.0</td>\n",
       "    </tr>\n",
       "    <tr>\n",
       "      <th>3</th>\n",
       "      <td>4</td>\n",
       "      <td>0</td>\n",
       "      <td>0.233810</td>\n",
       "      <td>30</td>\n",
       "      <td>0</td>\n",
       "      <td>0.036050</td>\n",
       "      <td>3300.0</td>\n",
       "      <td>5</td>\n",
       "      <td>0</td>\n",
       "      <td>0</td>\n",
       "      <td>0</td>\n",
       "      <td>0.0</td>\n",
       "    </tr>\n",
       "    <tr>\n",
       "      <th>4</th>\n",
       "      <td>5</td>\n",
       "      <td>0</td>\n",
       "      <td>0.907239</td>\n",
       "      <td>49</td>\n",
       "      <td>1</td>\n",
       "      <td>0.024926</td>\n",
       "      <td>63588.0</td>\n",
       "      <td>7</td>\n",
       "      <td>0</td>\n",
       "      <td>1</td>\n",
       "      <td>0</td>\n",
       "      <td>0.0</td>\n",
       "    </tr>\n",
       "    <tr>\n",
       "      <th>...</th>\n",
       "      <td>...</td>\n",
       "      <td>...</td>\n",
       "      <td>...</td>\n",
       "      <td>...</td>\n",
       "      <td>...</td>\n",
       "      <td>...</td>\n",
       "      <td>...</td>\n",
       "      <td>...</td>\n",
       "      <td>...</td>\n",
       "      <td>...</td>\n",
       "      <td>...</td>\n",
       "      <td>...</td>\n",
       "    </tr>\n",
       "    <tr>\n",
       "      <th>1344</th>\n",
       "      <td>1345</td>\n",
       "      <td>0</td>\n",
       "      <td>0.087406</td>\n",
       "      <td>32</td>\n",
       "      <td>0</td>\n",
       "      <td>0.288978</td>\n",
       "      <td>1750.0</td>\n",
       "      <td>8</td>\n",
       "      <td>0</td>\n",
       "      <td>0</td>\n",
       "      <td>0</td>\n",
       "      <td>2.0</td>\n",
       "    </tr>\n",
       "    <tr>\n",
       "      <th>1345</th>\n",
       "      <td>1346</td>\n",
       "      <td>0</td>\n",
       "      <td>0.000000</td>\n",
       "      <td>39</td>\n",
       "      <td>0</td>\n",
       "      <td>0.055916</td>\n",
       "      <td>4166.0</td>\n",
       "      <td>5</td>\n",
       "      <td>0</td>\n",
       "      <td>0</td>\n",
       "      <td>0</td>\n",
       "      <td>0.0</td>\n",
       "    </tr>\n",
       "    <tr>\n",
       "      <th>1346</th>\n",
       "      <td>1347</td>\n",
       "      <td>0</td>\n",
       "      <td>0.045694</td>\n",
       "      <td>49</td>\n",
       "      <td>0</td>\n",
       "      <td>0.300175</td>\n",
       "      <td>4000.0</td>\n",
       "      <td>14</td>\n",
       "      <td>0</td>\n",
       "      <td>1</td>\n",
       "      <td>0</td>\n",
       "      <td>1.0</td>\n",
       "    </tr>\n",
       "    <tr>\n",
       "      <th>1347</th>\n",
       "      <td>1348</td>\n",
       "      <td>0</td>\n",
       "      <td>0.022780</td>\n",
       "      <td>53</td>\n",
       "      <td>0</td>\n",
       "      <td>0.323068</td>\n",
       "      <td>10000.0</td>\n",
       "      <td>14</td>\n",
       "      <td>0</td>\n",
       "      <td>2</td>\n",
       "      <td>0</td>\n",
       "      <td>1.0</td>\n",
       "    </tr>\n",
       "    <tr>\n",
       "      <th>1348</th>\n",
       "      <td>1349</td>\n",
       "      <td>0</td>\n",
       "      <td>0.036934</td>\n",
       "      <td>56</td>\n",
       "      <td>0</td>\n",
       "      <td>0.287935</td>\n",
       "      <td>8362.0</td>\n",
       "      <td>8</td>\n",
       "      <td>0</td>\n",
       "      <td>1</td>\n",
       "      <td>0</td>\n",
       "      <td>2.0</td>\n",
       "    </tr>\n",
       "  </tbody>\n",
       "</table>\n",
       "<p>1076 rows × 12 columns</p>\n",
       "</div>"
      ],
      "text/plain": [
       "        Id  SeriousDlqin2yrs  RevolvingUtilizationOfUnsecuredLines  age  \\\n",
       "0        1                 1                              0.766127   45   \n",
       "1        2                 0                              0.957151   40   \n",
       "2        3                 0                              0.658180   38   \n",
       "3        4                 0                              0.233810   30   \n",
       "4        5                 0                              0.907239   49   \n",
       "...    ...               ...                                   ...  ...   \n",
       "1344  1345                 0                              0.087406   32   \n",
       "1345  1346                 0                              0.000000   39   \n",
       "1346  1347                 0                              0.045694   49   \n",
       "1347  1348                 0                              0.022780   53   \n",
       "1348  1349                 0                              0.036934   56   \n",
       "\n",
       "      NumberOfTime30-59DaysPastDueNotWorse  DebtRatio  MonthlyIncome  \\\n",
       "0                                        2   0.802982         9120.0   \n",
       "1                                        0   0.121876         2600.0   \n",
       "2                                        1   0.085113         3042.0   \n",
       "3                                        0   0.036050         3300.0   \n",
       "4                                        1   0.024926        63588.0   \n",
       "...                                    ...        ...            ...   \n",
       "1344                                     0   0.288978         1750.0   \n",
       "1345                                     0   0.055916         4166.0   \n",
       "1346                                     0   0.300175         4000.0   \n",
       "1347                                     0   0.323068        10000.0   \n",
       "1348                                     0   0.287935         8362.0   \n",
       "\n",
       "      NumberOfOpenCreditLinesAndLoans  NumberOfTimes90DaysLate  \\\n",
       "0                                  13                        0   \n",
       "1                                   4                        0   \n",
       "2                                   2                        1   \n",
       "3                                   5                        0   \n",
       "4                                   7                        0   \n",
       "...                               ...                      ...   \n",
       "1344                                8                        0   \n",
       "1345                                5                        0   \n",
       "1346                               14                        0   \n",
       "1347                               14                        0   \n",
       "1348                                8                        0   \n",
       "\n",
       "      NumberRealEstateLoansOrLines  NumberOfTime60-89DaysPastDueNotWorse  \\\n",
       "0                                6                                     0   \n",
       "1                                0                                     0   \n",
       "2                                0                                     0   \n",
       "3                                0                                     0   \n",
       "4                                1                                     0   \n",
       "...                            ...                                   ...   \n",
       "1344                             0                                     0   \n",
       "1345                             0                                     0   \n",
       "1346                             1                                     0   \n",
       "1347                             2                                     0   \n",
       "1348                             1                                     0   \n",
       "\n",
       "      NumberOfDependents  \n",
       "0                    2.0  \n",
       "1                    1.0  \n",
       "2                    0.0  \n",
       "3                    0.0  \n",
       "4                    0.0  \n",
       "...                  ...  \n",
       "1344                 2.0  \n",
       "1345                 0.0  \n",
       "1346                 1.0  \n",
       "1347                 1.0  \n",
       "1348                 2.0  \n",
       "\n",
       "[1076 rows x 12 columns]"
      ]
     },
     "execution_count": 5,
     "metadata": {},
     "output_type": "execute_result"
    }
   ],
   "source": [
    "nonnulls = pd.notnull(data[\"MonthlyIncome\"]) & data[\"MonthlyIncome\"]!=0\n",
    "data[nonnulls]"
   ]
  },
  {
   "cell_type": "code",
   "execution_count": 6,
   "metadata": {
    "scrolled": true
   },
   "outputs": [],
   "source": [
    "# место для кода\n",
    "nonnulls = pd.notnull(data[\"MonthlyIncome\"]) & data[\"MonthlyIncome\"]!=0\n",
    "data.loc[nonnulls,\"DebtRatio\"] = data.loc[nonnulls,\"MonthlyIncome\"] * data.loc[nonnulls,\"DebtRatio\"]#\n"
   ]
  },
  {
   "cell_type": "code",
   "execution_count": 7,
   "metadata": {},
   "outputs": [
    {
     "data": {
      "text/html": [
       "<div>\n",
       "<style scoped>\n",
       "    .dataframe tbody tr th:only-of-type {\n",
       "        vertical-align: middle;\n",
       "    }\n",
       "\n",
       "    .dataframe tbody tr th {\n",
       "        vertical-align: top;\n",
       "    }\n",
       "\n",
       "    .dataframe thead th {\n",
       "        text-align: right;\n",
       "    }\n",
       "</style>\n",
       "<table border=\"1\" class=\"dataframe\">\n",
       "  <thead>\n",
       "    <tr style=\"text-align: right;\">\n",
       "      <th></th>\n",
       "      <th>Id</th>\n",
       "      <th>SeriousDlqin2yrs</th>\n",
       "      <th>RevolvingUtilizationOfUnsecuredLines</th>\n",
       "      <th>age</th>\n",
       "      <th>NumberOfTime30-59DaysPastDueNotWorse</th>\n",
       "      <th>DebtRatio</th>\n",
       "      <th>MonthlyIncome</th>\n",
       "      <th>NumberOfOpenCreditLinesAndLoans</th>\n",
       "      <th>NumberOfTimes90DaysLate</th>\n",
       "      <th>NumberRealEstateLoansOrLines</th>\n",
       "      <th>NumberOfTime60-89DaysPastDueNotWorse</th>\n",
       "      <th>NumberOfDependents</th>\n",
       "    </tr>\n",
       "  </thead>\n",
       "  <tbody>\n",
       "    <tr>\n",
       "      <th>0</th>\n",
       "      <td>1</td>\n",
       "      <td>1</td>\n",
       "      <td>0.766127</td>\n",
       "      <td>45</td>\n",
       "      <td>2</td>\n",
       "      <td>7323.197016</td>\n",
       "      <td>9120.0</td>\n",
       "      <td>13</td>\n",
       "      <td>0</td>\n",
       "      <td>6</td>\n",
       "      <td>0</td>\n",
       "      <td>2.0</td>\n",
       "    </tr>\n",
       "    <tr>\n",
       "      <th>1</th>\n",
       "      <td>2</td>\n",
       "      <td>0</td>\n",
       "      <td>0.957151</td>\n",
       "      <td>40</td>\n",
       "      <td>0</td>\n",
       "      <td>316.878123</td>\n",
       "      <td>2600.0</td>\n",
       "      <td>4</td>\n",
       "      <td>0</td>\n",
       "      <td>0</td>\n",
       "      <td>0</td>\n",
       "      <td>1.0</td>\n",
       "    </tr>\n",
       "    <tr>\n",
       "      <th>2</th>\n",
       "      <td>3</td>\n",
       "      <td>0</td>\n",
       "      <td>0.658180</td>\n",
       "      <td>38</td>\n",
       "      <td>1</td>\n",
       "      <td>258.914887</td>\n",
       "      <td>3042.0</td>\n",
       "      <td>2</td>\n",
       "      <td>1</td>\n",
       "      <td>0</td>\n",
       "      <td>0</td>\n",
       "      <td>0.0</td>\n",
       "    </tr>\n",
       "    <tr>\n",
       "      <th>3</th>\n",
       "      <td>4</td>\n",
       "      <td>0</td>\n",
       "      <td>0.233810</td>\n",
       "      <td>30</td>\n",
       "      <td>0</td>\n",
       "      <td>118.963951</td>\n",
       "      <td>3300.0</td>\n",
       "      <td>5</td>\n",
       "      <td>0</td>\n",
       "      <td>0</td>\n",
       "      <td>0</td>\n",
       "      <td>0.0</td>\n",
       "    </tr>\n",
       "    <tr>\n",
       "      <th>4</th>\n",
       "      <td>5</td>\n",
       "      <td>0</td>\n",
       "      <td>0.907239</td>\n",
       "      <td>49</td>\n",
       "      <td>1</td>\n",
       "      <td>1584.975094</td>\n",
       "      <td>63588.0</td>\n",
       "      <td>7</td>\n",
       "      <td>0</td>\n",
       "      <td>1</td>\n",
       "      <td>0</td>\n",
       "      <td>0.0</td>\n",
       "    </tr>\n",
       "  </tbody>\n",
       "</table>\n",
       "</div>"
      ],
      "text/plain": [
       "   Id  SeriousDlqin2yrs  RevolvingUtilizationOfUnsecuredLines  age  \\\n",
       "0   1                 1                              0.766127   45   \n",
       "1   2                 0                              0.957151   40   \n",
       "2   3                 0                              0.658180   38   \n",
       "3   4                 0                              0.233810   30   \n",
       "4   5                 0                              0.907239   49   \n",
       "\n",
       "   NumberOfTime30-59DaysPastDueNotWorse    DebtRatio  MonthlyIncome  \\\n",
       "0                                     2  7323.197016         9120.0   \n",
       "1                                     0   316.878123         2600.0   \n",
       "2                                     1   258.914887         3042.0   \n",
       "3                                     0   118.963951         3300.0   \n",
       "4                                     1  1584.975094        63588.0   \n",
       "\n",
       "   NumberOfOpenCreditLinesAndLoans  NumberOfTimes90DaysLate  \\\n",
       "0                               13                        0   \n",
       "1                                4                        0   \n",
       "2                                2                        1   \n",
       "3                                5                        0   \n",
       "4                                7                        0   \n",
       "\n",
       "   NumberRealEstateLoansOrLines  NumberOfTime60-89DaysPastDueNotWorse  \\\n",
       "0                             6                                     0   \n",
       "1                             0                                     0   \n",
       "2                             0                                     0   \n",
       "3                             0                                     0   \n",
       "4                             1                                     0   \n",
       "\n",
       "   NumberOfDependents  \n",
       "0                 2.0  \n",
       "1                 1.0  \n",
       "2                 0.0  \n",
       "3                 0.0  \n",
       "4                 0.0  "
      ]
     },
     "execution_count": 7,
     "metadata": {},
     "output_type": "execute_result"
    }
   ],
   "source": [
    "data.head()"
   ]
  },
  {
   "cell_type": "markdown",
   "metadata": {},
   "source": [
    "### 6\n",
    "\n",
    "Поменяйте имя столбца на `Debt`.\n",
    "\n",
    "*Функции, которые могут пригодиться при решении: `.rename(columns={'староеИмя':'новоеИмя'}, inplace=True)`*"
   ]
  },
  {
   "cell_type": "code",
   "execution_count": 8,
   "metadata": {},
   "outputs": [],
   "source": [
    "# место для кода\n",
    "data.rename(columns = {'DebtRatio':\"Debt\"},inplace = True)#"
   ]
  },
  {
   "cell_type": "markdown",
   "metadata": {},
   "source": [
    "### 7\n",
    "\n",
    "Вычислите средний ежемесячный доход и присвойте всем клиентам с неизвестным доходом полученное число.\n",
    "\n",
    "*Функции, которые могут пригодиться при решении: `.mean()`*\n",
    "\n",
    "*Другие описательные статистики:* https://pandas.pydata.org/pandas-docs/stable/reference/frame.html#computations-descriptive-stats"
   ]
  },
  {
   "cell_type": "code",
   "execution_count": 9,
   "metadata": {},
   "outputs": [
    {
     "data": {
      "text/plain": [
       "6438.473491773308"
      ]
     },
     "execution_count": 9,
     "metadata": {},
     "output_type": "execute_result"
    }
   ],
   "source": [
    "# место для кода\n",
    "nulls = pd.isnull(data[\"MonthlyIncome\"]) \n",
    "data.loc[nulls,\"MonthlyIncome\"] = data.mean(skipna=True)[\"MonthlyIncome\"] #\n",
    "data.mean(skipna=True)[\"MonthlyIncome\"]"
   ]
  },
  {
   "cell_type": "markdown",
   "metadata": {},
   "source": [
    "### 8\n",
    "\n",
    "Используя метод `groupby`, оцените вероятности невозврата кредита (`SeriousDlqin2yrs=1`) для различных значений количества иждивенцев (`NumberOfDependents`).  \n",
    "\n",
    "Проделайте аналогичную процедуру для различных значений столбца `NumberRealEstateLoansOrLines`\n",
    "\n",
    "*Подсказка:*\n",
    "`data['столбец1'].groupby(data['столбец2']).mean()`  *-- расчет средних значений столбца1 по группам из столбца2*"
   ]
  },
  {
   "cell_type": "code",
   "execution_count": 10,
   "metadata": {
    "scrolled": true
   },
   "outputs": [
    {
     "data": {
      "text/plain": [
       "NumberOfDependents\n",
       "0.0    0.041397\n",
       "1.0    0.089844\n",
       "2.0    0.110465\n",
       "3.0    0.057143\n",
       "4.0    0.033333\n",
       "5.0    0.000000\n",
       "6.0    0.000000\n",
       "8.0    0.000000\n",
       "Name: SeriousDlqin2yrs, dtype: float64"
      ]
     },
     "execution_count": 10,
     "metadata": {},
     "output_type": "execute_result"
    }
   ],
   "source": [
    "# место для кода\n",
    "data['SeriousDlqin2yrs'].groupby(data['NumberOfDependents']).mean()"
   ]
  },
  {
   "cell_type": "code",
   "execution_count": 11,
   "metadata": {},
   "outputs": [
    {
     "data": {
      "text/plain": [
       "NumberRealEstateLoansOrLines\n",
       "0    0.056863\n",
       "1    0.048729\n",
       "2    0.063158\n",
       "3    0.145455\n",
       "4    0.105263\n",
       "5    0.000000\n",
       "6    1.000000\n",
       "8    0.000000\n",
       "Name: SeriousDlqin2yrs, dtype: float64"
      ]
     },
     "execution_count": 11,
     "metadata": {},
     "output_type": "execute_result"
    }
   ],
   "source": [
    "data['SeriousDlqin2yrs'].groupby(data['NumberRealEstateLoansOrLines']).mean()"
   ]
  },
  {
   "cell_type": "markdown",
   "metadata": {},
   "source": [
    "## Визуализация данных"
   ]
  },
  {
   "cell_type": "code",
   "execution_count": 12,
   "metadata": {},
   "outputs": [],
   "source": [
    "import matplotlib.pyplot as plt\n",
    "\n",
    "#  функция, позволяющая выводить графики прямо в ноутбук👍\n",
    "%matplotlib inline"
   ]
  },
  {
   "cell_type": "markdown",
   "metadata": {},
   "source": [
    "Matplotlib позволяет удобно визуализировать табличные данные.\n",
    "\n",
    "*Функции, которые могут пригодиться при решении:*\n",
    "\n",
    "* Рисование:\n",
    "   * `plt.plot(x, y)`  см. подробнее http://matplotlib.org/api/pyplot_api.html#matplotlib.pyplot.plot\n",
    "   * `plt.show()`\n",
    "   * `plt.scatter(x, y)` - график рассеяния, см. http://matplotlib.org/api/pyplot_api.html#matplotlib.pyplot.scatter\n",
    "   * `plt.hist()` - гистограмма, см. http://matplotlib.org/api/pyplot_api.html#matplotlib.pyplot.hist\n",
    "* Рисование нескольких графиков на одном:\n",
    "\n",
    "  `fig, ax = plt.subplots()\n",
    "   ax.hist(...)\n",
    "   ax.hist(...)\n",
    "   plt.show()`\n",
    "   \n",
    "* Логарифмическая шкала:\n",
    "    * `ax.set_xscale('log')`  или `ax.set_yscale('log')`\n",
    "* Ограничение области графика:\n",
    "    * `ax.axis([x1, x2, y1, y2])`\n",
    "\n",
    "\n",
    "### 9a\n",
    "\n",
    "Постройте график рассеяния на осях `age` и `Debt`. Cиним отметьте клиентов без серьезных задолженностей (`SeriousDlqin2yrs = 0`) и красным — должников (`SeriousDlqin2yrs = 1`)."
   ]
  },
  {
   "cell_type": "code",
   "execution_count": 16,
   "metadata": {},
   "outputs": [
    {
     "data": {
      "text/plain": [
       "<matplotlib.legend.Legend at 0x1150ff4d548>"
      ]
     },
     "execution_count": 16,
     "metadata": {},
     "output_type": "execute_result"
    },
    {
     "data": {
      "image/png": "[encoded data removed]",
      "text/plain": [
       "<Figure size 432x288 with 1 Axes>"
      ]
     },
     "metadata": {
      "needs_background": "light"
     },
     "output_type": "display_data"
    }
   ],
   "source": [
    "# место для кода\n",
    "plt.figure(figsize=(12, 6))\n",
    "groups = data.groupby('SeriousDlqin2yrs')\n",
    "colors = ['blue','red']\n",
    "for tmp,color in zip(groups, colors):\n",
    "    name, group = tmp\n",
    "    plt.plot(group[\"age\"], group[\"Debt\"], marker=\"o\", linestyle=\"\", label='SeriousDlqin2yrs = ' + str(name),color = color)\n",
    "plt.legend()"
   ]
  },
  {
   "cell_type": "markdown",
   "metadata": {},
   "source": [
    "### 9b\n",
    "Постройте на одном графике две **нормированные** плотности распределения: красную – для месячного дохода клиентов с задолженностями, синюю – для месячного дохода клиентов без задолженностей. По оси абсцисс отобразите значения до 25000."
   ]
  },
  {
   "cell_type": "code",
   "execution_count": 14,
   "metadata": {},
   "outputs": [
    {
     "data": {
      "text/plain": [
       "(-20000.0, 25000.0)"
      ]
     },
     "execution_count": 14,
     "metadata": {},
     "output_type": "execute_result"
    },
    {
     "data": {
      "image/png": "[encoded data removed]",
      "text/plain": [
       "<Figure size 432x288 with 1 Axes>"
      ]
     },
     "metadata": {
      "needs_background": "light"
     },
     "output_type": "display_data"
    }
   ],
   "source": [
    "data[data['SeriousDlqin2yrs']==0]['MonthlyIncome'].plot.kde(color = 'blue')\n",
    "data[data['SeriousDlqin2yrs']==1]['MonthlyIncome'].plot.kde(color = 'red')\n",
    "plt.xlim(-20000,25000)"
   ]
  },
  {
   "cell_type": "markdown",
   "metadata": {},
   "source": [
    "### 9c*\n",
    "Визуализируйте попарные зависимости между небинарными признаками `'age', 'MonthlyIncome', 'NumberOfDependents'`. Ограничьте при этом месячный доход значением 25000.\n",
    "\n",
    "Какие закономерности вы можете наблюдать на получившихся графиках?\n",
    "\n",
    "*Функции, которые могут пригодиться при решении: `pd.plotting.scatter_matrix()`*"
   ]
  },
  {
   "cell_type": "code",
   "execution_count": 15,
   "metadata": {},
   "outputs": [
    {
     "data": {
      "text/plain": [
       "<seaborn.axisgrid.PairGrid at 0x1150da1f108>"
      ]
     },
     "execution_count": 15,
     "metadata": {},
     "output_type": "execute_result"
    },
    {
     "data": {
      "image/png": "[encoded data removed]",
      "text/plain": [
       "<Figure size 632.875x540 with 9 Axes>"
      ]
     },
     "metadata": {
      "needs_background": "light"
     },
     "output_type": "display_data"
    }
   ],
   "source": [
    "# место для кода\n",
    "data_new = data[data['MonthlyIncome']<=25000]\n",
    "import seaborn as sns\n",
    "g = sns.PairGrid(data_new, vars=['age', 'MonthlyIncome', 'NumberOfDependents'],hue='SeriousDlqin2yrs')\n",
    "g.map(plt.scatter);\n",
    "g.add_legend()"
   ]
  },
  {
   "cell_type": "markdown",
   "metadata": {},
   "source": [
    "Наблюдаются следующие закономерности:\n",
    "1)Наиболее большое количество иждевенцев (Depenents) - около 50 лет\n",
    "2)Наибольшее количество иждевенцев имеют люди с количеством дохода от 50к до 100к"
   ]
  }
 ],
 "metadata": {
  "kernelspec": {
   "display_name": "Python 3",
   "language": "python",
   "name": "python3"
  },
  "language_info": {
   "codemirror_mode": {
    "name": "ipython",
    "version": 3
   },
   "file_extension": ".py",
   "mimetype": "text/x-python",
   "name": "python",
   "nbconvert_exporter": "python",
   "pygments_lexer": "ipython3",
   "version": "3.7.7"
  }
 },
 "nbformat": 4,
 "nbformat_minor": 2
}
