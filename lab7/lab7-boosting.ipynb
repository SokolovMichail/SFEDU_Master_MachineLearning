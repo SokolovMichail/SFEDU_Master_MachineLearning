{
 "cells": [
  {
   "cell_type": "markdown",
   "metadata": {},
   "source": [
    "## Лабораторная 7: логические алгоритмы. Бустинг\n",
    "\n",
    "### Попробуем применить самые сильные на сегодняшний день композиции логических алгоритмов к рассмотренной в лабораторной работе 3 задаче о Титанике. Загрузите данные и подключите необходимые библиотеки:"
   ]
  },
  {
   "cell_type": "code",
   "execution_count": 1,
   "metadata": {
    "scrolled": true
   },
   "outputs": [],
   "source": [
    "import numpy as np\n",
    "import pandas as pd\n",
    "import warnings\n",
    "from sklearn import *\n",
    "\n",
    "from catboost import CatBoostClassifier\n",
    "import lightgbm as lgb\n",
    "import xgboost as xgb"
   ]
  },
  {
   "cell_type": "code",
   "execution_count": 2,
   "metadata": {},
   "outputs": [],
   "source": [
    "import matplotlib.pyplot as plt\n",
    "%matplotlib inline"
   ]
  },
  {
   "cell_type": "code",
   "execution_count": 3,
   "metadata": {},
   "outputs": [],
   "source": [
    "from pylab import rcParams\n",
    "rcParams['figure.figsize'] = 12,7"
   ]
  },
  {
   "cell_type": "code",
   "execution_count": 4,
   "metadata": {
    "scrolled": true
   },
   "outputs": [
    {
     "data": {
      "text/html": [
       "<div>\n",
       "<style scoped>\n",
       "    .dataframe tbody tr th:only-of-type {\n",
       "        vertical-align: middle;\n",
       "    }\n",
       "\n",
       "    .dataframe tbody tr th {\n",
       "        vertical-align: top;\n",
       "    }\n",
       "\n",
       "    .dataframe thead th {\n",
       "        text-align: right;\n",
       "    }\n",
       "</style>\n",
       "<table border=\"1\" class=\"dataframe\">\n",
       "  <thead>\n",
       "    <tr style=\"text-align: right;\">\n",
       "      <th></th>\n",
       "      <th>PassengerId</th>\n",
       "      <th>Survived</th>\n",
       "      <th>Pclass</th>\n",
       "      <th>Name</th>\n",
       "      <th>Sex</th>\n",
       "      <th>Age</th>\n",
       "      <th>SibSp</th>\n",
       "      <th>Parch</th>\n",
       "      <th>Ticket</th>\n",
       "      <th>Fare</th>\n",
       "      <th>Cabin</th>\n",
       "      <th>Embarked</th>\n",
       "    </tr>\n",
       "  </thead>\n",
       "  <tbody>\n",
       "    <tr>\n",
       "      <th>count</th>\n",
       "      <td>891.000000</td>\n",
       "      <td>891.000000</td>\n",
       "      <td>891.000000</td>\n",
       "      <td>891</td>\n",
       "      <td>891</td>\n",
       "      <td>714.000000</td>\n",
       "      <td>891.000000</td>\n",
       "      <td>891.000000</td>\n",
       "      <td>891</td>\n",
       "      <td>891.000000</td>\n",
       "      <td>204</td>\n",
       "      <td>889</td>\n",
       "    </tr>\n",
       "    <tr>\n",
       "      <th>unique</th>\n",
       "      <td>NaN</td>\n",
       "      <td>NaN</td>\n",
       "      <td>NaN</td>\n",
       "      <td>891</td>\n",
       "      <td>2</td>\n",
       "      <td>NaN</td>\n",
       "      <td>NaN</td>\n",
       "      <td>NaN</td>\n",
       "      <td>681</td>\n",
       "      <td>NaN</td>\n",
       "      <td>147</td>\n",
       "      <td>3</td>\n",
       "    </tr>\n",
       "    <tr>\n",
       "      <th>top</th>\n",
       "      <td>NaN</td>\n",
       "      <td>NaN</td>\n",
       "      <td>NaN</td>\n",
       "      <td>Sage, Miss. Stella Anna</td>\n",
       "      <td>male</td>\n",
       "      <td>NaN</td>\n",
       "      <td>NaN</td>\n",
       "      <td>NaN</td>\n",
       "      <td>1601</td>\n",
       "      <td>NaN</td>\n",
       "      <td>B96 B98</td>\n",
       "      <td>S</td>\n",
       "    </tr>\n",
       "    <tr>\n",
       "      <th>freq</th>\n",
       "      <td>NaN</td>\n",
       "      <td>NaN</td>\n",
       "      <td>NaN</td>\n",
       "      <td>1</td>\n",
       "      <td>577</td>\n",
       "      <td>NaN</td>\n",
       "      <td>NaN</td>\n",
       "      <td>NaN</td>\n",
       "      <td>7</td>\n",
       "      <td>NaN</td>\n",
       "      <td>4</td>\n",
       "      <td>644</td>\n",
       "    </tr>\n",
       "    <tr>\n",
       "      <th>mean</th>\n",
       "      <td>446.000000</td>\n",
       "      <td>0.383838</td>\n",
       "      <td>2.308642</td>\n",
       "      <td>NaN</td>\n",
       "      <td>NaN</td>\n",
       "      <td>29.699118</td>\n",
       "      <td>0.523008</td>\n",
       "      <td>0.381594</td>\n",
       "      <td>NaN</td>\n",
       "      <td>32.204208</td>\n",
       "      <td>NaN</td>\n",
       "      <td>NaN</td>\n",
       "    </tr>\n",
       "    <tr>\n",
       "      <th>std</th>\n",
       "      <td>257.353842</td>\n",
       "      <td>0.486592</td>\n",
       "      <td>0.836071</td>\n",
       "      <td>NaN</td>\n",
       "      <td>NaN</td>\n",
       "      <td>14.526497</td>\n",
       "      <td>1.102743</td>\n",
       "      <td>0.806057</td>\n",
       "      <td>NaN</td>\n",
       "      <td>49.693429</td>\n",
       "      <td>NaN</td>\n",
       "      <td>NaN</td>\n",
       "    </tr>\n",
       "    <tr>\n",
       "      <th>min</th>\n",
       "      <td>1.000000</td>\n",
       "      <td>0.000000</td>\n",
       "      <td>1.000000</td>\n",
       "      <td>NaN</td>\n",
       "      <td>NaN</td>\n",
       "      <td>0.420000</td>\n",
       "      <td>0.000000</td>\n",
       "      <td>0.000000</td>\n",
       "      <td>NaN</td>\n",
       "      <td>0.000000</td>\n",
       "      <td>NaN</td>\n",
       "      <td>NaN</td>\n",
       "    </tr>\n",
       "    <tr>\n",
       "      <th>25%</th>\n",
       "      <td>223.500000</td>\n",
       "      <td>0.000000</td>\n",
       "      <td>2.000000</td>\n",
       "      <td>NaN</td>\n",
       "      <td>NaN</td>\n",
       "      <td>20.125000</td>\n",
       "      <td>0.000000</td>\n",
       "      <td>0.000000</td>\n",
       "      <td>NaN</td>\n",
       "      <td>7.910400</td>\n",
       "      <td>NaN</td>\n",
       "      <td>NaN</td>\n",
       "    </tr>\n",
       "    <tr>\n",
       "      <th>50%</th>\n",
       "      <td>446.000000</td>\n",
       "      <td>0.000000</td>\n",
       "      <td>3.000000</td>\n",
       "      <td>NaN</td>\n",
       "      <td>NaN</td>\n",
       "      <td>28.000000</td>\n",
       "      <td>0.000000</td>\n",
       "      <td>0.000000</td>\n",
       "      <td>NaN</td>\n",
       "      <td>14.454200</td>\n",
       "      <td>NaN</td>\n",
       "      <td>NaN</td>\n",
       "    </tr>\n",
       "    <tr>\n",
       "      <th>75%</th>\n",
       "      <td>668.500000</td>\n",
       "      <td>1.000000</td>\n",
       "      <td>3.000000</td>\n",
       "      <td>NaN</td>\n",
       "      <td>NaN</td>\n",
       "      <td>38.000000</td>\n",
       "      <td>1.000000</td>\n",
       "      <td>0.000000</td>\n",
       "      <td>NaN</td>\n",
       "      <td>31.000000</td>\n",
       "      <td>NaN</td>\n",
       "      <td>NaN</td>\n",
       "    </tr>\n",
       "    <tr>\n",
       "      <th>max</th>\n",
       "      <td>891.000000</td>\n",
       "      <td>1.000000</td>\n",
       "      <td>3.000000</td>\n",
       "      <td>NaN</td>\n",
       "      <td>NaN</td>\n",
       "      <td>80.000000</td>\n",
       "      <td>8.000000</td>\n",
       "      <td>6.000000</td>\n",
       "      <td>NaN</td>\n",
       "      <td>512.329200</td>\n",
       "      <td>NaN</td>\n",
       "      <td>NaN</td>\n",
       "    </tr>\n",
       "  </tbody>\n",
       "</table>\n",
       "</div>"
      ],
      "text/plain": [
       "        PassengerId    Survived      Pclass                     Name   Sex  \\\n",
       "count    891.000000  891.000000  891.000000                      891   891   \n",
       "unique          NaN         NaN         NaN                      891     2   \n",
       "top             NaN         NaN         NaN  Sage, Miss. Stella Anna  male   \n",
       "freq            NaN         NaN         NaN                        1   577   \n",
       "mean     446.000000    0.383838    2.308642                      NaN   NaN   \n",
       "std      257.353842    0.486592    0.836071                      NaN   NaN   \n",
       "min        1.000000    0.000000    1.000000                      NaN   NaN   \n",
       "25%      223.500000    0.000000    2.000000                      NaN   NaN   \n",
       "50%      446.000000    0.000000    3.000000                      NaN   NaN   \n",
       "75%      668.500000    1.000000    3.000000                      NaN   NaN   \n",
       "max      891.000000    1.000000    3.000000                      NaN   NaN   \n",
       "\n",
       "               Age       SibSp       Parch Ticket        Fare    Cabin  \\\n",
       "count   714.000000  891.000000  891.000000    891  891.000000      204   \n",
       "unique         NaN         NaN         NaN    681         NaN      147   \n",
       "top            NaN         NaN         NaN   1601         NaN  B96 B98   \n",
       "freq           NaN         NaN         NaN      7         NaN        4   \n",
       "mean     29.699118    0.523008    0.381594    NaN   32.204208      NaN   \n",
       "std      14.526497    1.102743    0.806057    NaN   49.693429      NaN   \n",
       "min       0.420000    0.000000    0.000000    NaN    0.000000      NaN   \n",
       "25%      20.125000    0.000000    0.000000    NaN    7.910400      NaN   \n",
       "50%      28.000000    0.000000    0.000000    NaN   14.454200      NaN   \n",
       "75%      38.000000    1.000000    0.000000    NaN   31.000000      NaN   \n",
       "max      80.000000    8.000000    6.000000    NaN  512.329200      NaN   \n",
       "\n",
       "       Embarked  \n",
       "count       889  \n",
       "unique        3  \n",
       "top           S  \n",
       "freq        644  \n",
       "mean        NaN  \n",
       "std         NaN  \n",
       "min         NaN  \n",
       "25%         NaN  \n",
       "50%         NaN  \n",
       "75%         NaN  \n",
       "max         NaN  "
      ]
     },
     "execution_count": 4,
     "metadata": {},
     "output_type": "execute_result"
    }
   ],
   "source": [
    "data = pd.read_csv('data.csv');\n",
    "data.describe(include='all')"
   ]
  },
  {
   "cell_type": "markdown",
   "metadata": {},
   "source": [
    "## 1\n",
    "### Замените неизвестные значения и создайте новый сильный признак — приставка к имени (Mr, Mrs, Miss)"
   ]
  },
  {
   "cell_type": "code",
   "execution_count": 5,
   "metadata": {},
   "outputs": [],
   "source": [
    "data.Age.fillna(-1, inplace=True)\n",
    "data.Cabin.fillna('unknown', inplace=True)\n",
    "data.Embarked.fillna('unknown', inplace=True)\n",
    "data['NamePrefix'] = data.Name.apply(lambda s: 'Mr' \n",
    "                                     if s.find('Mr.')>=0 else 'Mrs' \n",
    "                                     if s.find('Mrs.')>=0 else 'Miss' \n",
    "                                     if s.find('Miss.')>=0 else 'None')"
   ]
  },
  {
   "cell_type": "markdown",
   "metadata": {},
   "source": [
    "## 2\n",
    "\n",
    "### Закодируйте номинальные признаки числовыми значениями:"
   ]
  },
  {
   "cell_type": "code",
   "execution_count": 6,
   "metadata": {},
   "outputs": [],
   "source": [
    "columns = ['Survived','Pclass','NamePrefix','Sex','Age','SibSp','Parch','Fare','Cabin','Embarked']\n",
    "data1 = data.loc[:, columns].copy(deep=True).reset_index(drop=True)\n",
    "le = preprocessing.LabelEncoder()\n",
    "for c in ['NamePrefix', 'Sex', 'Cabin', 'Embarked']:\n",
    "    data1[c] = le.fit_transform(data1[c])\n"
   ]
  },
  {
   "cell_type": "markdown",
   "metadata": {},
   "source": [
    "## 3\n",
    "\n",
    "### В лабораторной работе 3 довольно много студентов с помощью элементарного и неточного метода ближайших соседей достигли точности больше 84%. Примените самые мощные на сегодняшний день алгоритмы `RandomForest`, `CatBoost` от Yandex, `xgboost`, `LightGBM` от Microsoft, основанные на бустинге деревьев. При необходимости настройте их так, чтобы все показали качество больше 83%. Для сравнения выведите на экран лучшую точность работы одного классифицирующего дерева:"
   ]
  },
  {
   "cell_type": "code",
   "execution_count": 7,
   "metadata": {},
   "outputs": [],
   "source": [
    "# генератор разбиений обучающей выборки на train и test\n",
    "cv = model_selection.KFold(n_splits=4, shuffle=True, random_state=0)"
   ]
  },
  {
   "cell_type": "code",
   "execution_count": 8,
   "metadata": {},
   "outputs": [],
   "source": [
    "#An overlay over gridsearch algorithm\n",
    "def grid_search(data ,model, parameters, verbose=1, n_jobs=-1):\n",
    "    with warnings.catch_warnings():\n",
    "        warnings.simplefilter(\"ignore\")\n",
    "        classifier = model_selection.GridSearchCV(model, parameters, scoring='accuracy', cv=cv, verbose=verbose,\n",
    "                                           n_jobs=n_jobs)\n",
    "        classifier.fit(data.loc[:, data.columns!='Survived'], data['Survived'])\n",
    "        params = classifier.cv_results_['params']\n",
    "        scores = classifier.cv_results_['mean_test_score']\n",
    "        best_params = sorted(params, key=lambda value: scores[params.index(value)], reverse=True)[:3]\n",
    "        best_scores = sorted(scores, reverse=True)[:3]\n",
    "        return list(zip(best_params, best_scores))"
   ]
  },
  {
   "cell_type": "code",
   "execution_count": 9,
   "metadata": {},
   "outputs": [
    {
     "name": "stdout",
     "output_type": "stream",
     "text": [
      "Fitting 4 folds for each of 640 candidates, totalling 2560 fits\n"
     ]
    },
    {
     "name": "stderr",
     "output_type": "stream",
     "text": [
      "[Parallel(n_jobs=-1)]: Using backend LokyBackend with 4 concurrent workers.\n",
      "[Parallel(n_jobs=-1)]: Done  88 tasks      | elapsed:    1.2s\n",
      "[Parallel(n_jobs=-1)]: Done 2560 out of 2560 | elapsed:    5.1s finished\n"
     ]
    },
    {
     "data": {
      "text/plain": [
       "[({'criterion': 'entropy',\n",
       "   'max_depth': 10,\n",
       "   'max_features': None,\n",
       "   'min_samples_leaf': 5,\n",
       "   'min_samples_split': 20},\n",
       "  0.8181735547206399),\n",
       " ({'criterion': 'gini',\n",
       "   'max_depth': 5,\n",
       "   'max_features': None,\n",
       "   'min_samples_leaf': 1,\n",
       "   'min_samples_split': 2},\n",
       "  0.8170726780592251),\n",
       " ({'criterion': 'gini',\n",
       "   'max_depth': 20,\n",
       "   'max_features': None,\n",
       "   'min_samples_leaf': 5,\n",
       "   'min_samples_split': 2},\n",
       "  0.8148052761281461)]"
      ]
     },
     "execution_count": 9,
     "metadata": {},
     "output_type": "execute_result"
    }
   ],
   "source": [
    "#Find best parameter for Tree.\n",
    "DEF_RAND_STATE = 0\n",
    " \n",
    "params_tree = dict(\n",
    "    max_features=['auto', 'sqrt', 'log2', None],\n",
    "    max_depth=[5, 10,20, None],\n",
    "    min_samples_leaf=[1, 2, 5,10,20],\n",
    "    min_samples_split=[2, 10, 20,30],\n",
    "    criterion=['gini', 'entropy'],\n",
    "    #bootstrap=[False, True]\n",
    ")\n",
    "Tree_S = tree.DecisionTreeClassifier(random_state=DEF_RAND_STATE)\n",
    "grid_search(data1,Tree_S,params_tree)\n",
    "\n"
   ]
  },
  {
   "cell_type": "code",
   "execution_count": 10,
   "metadata": {},
   "outputs": [
    {
     "name": "stderr",
     "output_type": "stream",
     "text": [
      "[Parallel(n_jobs=-1)]: Using backend LokyBackend with 4 concurrent workers.\n"
     ]
    },
    {
     "name": "stdout",
     "output_type": "stream",
     "text": [
      "Fitting 4 folds for each of 1280 candidates, totalling 5120 fits\n"
     ]
    },
    {
     "name": "stderr",
     "output_type": "stream",
     "text": [
      "[Parallel(n_jobs=-1)]: Done  76 tasks      | elapsed:    2.5s\n",
      "[Parallel(n_jobs=-1)]: Done 376 tasks      | elapsed:   14.0s\n",
      "[Parallel(n_jobs=-1)]: Done 876 tasks      | elapsed:   33.0s\n",
      "[Parallel(n_jobs=-1)]: Done 1576 tasks      | elapsed:  1.1min\n",
      "[Parallel(n_jobs=-1)]: Done 2476 tasks      | elapsed:  1.8min\n",
      "[Parallel(n_jobs=-1)]: Done 3576 tasks      | elapsed:  2.5min\n",
      "[Parallel(n_jobs=-1)]: Done 4876 tasks      | elapsed:  3.5min\n",
      "[Parallel(n_jobs=-1)]: Done 5120 out of 5120 | elapsed:  3.6min finished\n"
     ]
    },
    {
     "data": {
      "text/plain": [
       "[({'bootstrap': True,\n",
       "   'criterion': 'entropy',\n",
       "   'max_depth': 20,\n",
       "   'max_features': 'auto',\n",
       "   'min_samples_leaf': 2,\n",
       "   'min_samples_split': 10},\n",
       "  0.8305205429644891),\n",
       " ({'bootstrap': True,\n",
       "   'criterion': 'entropy',\n",
       "   'max_depth': 20,\n",
       "   'max_features': 'sqrt',\n",
       "   'min_samples_leaf': 2,\n",
       "   'min_samples_split': 10},\n",
       "  0.8305205429644891),\n",
       " ({'bootstrap': True,\n",
       "   'criterion': 'entropy',\n",
       "   'max_depth': 20,\n",
       "   'max_features': 'log2',\n",
       "   'min_samples_leaf': 2,\n",
       "   'min_samples_split': 10},\n",
       "  0.8305205429644891)]"
      ]
     },
     "execution_count": 10,
     "metadata": {},
     "output_type": "execute_result"
    }
   ],
   "source": [
    "#Find best parameters for RandomForest\n",
    "params_RF = dict(\n",
    "    max_features=['auto', 'sqrt', 'log2', None],\n",
    "    max_depth=[5, 10,20, None],\n",
    "    min_samples_leaf=[1, 2, 5,10,20],\n",
    "    min_samples_split=[2, 10, 20,30],\n",
    "    criterion=['gini', 'entropy'],\n",
    "    bootstrap=[False, True]\n",
    ")\n",
    "RF_S = ensemble.RandomForestClassifier(random_state=DEF_RAND_STATE)\n",
    "grid_search(data1,RF_S,params_RF)\n"
   ]
  },
  {
   "cell_type": "code",
   "execution_count": 11,
   "metadata": {},
   "outputs": [
    {
     "name": "stdout",
     "output_type": "stream",
     "text": [
      "Fitting 4 folds for each of 12 candidates, totalling 48 fits\n"
     ]
    },
    {
     "name": "stderr",
     "output_type": "stream",
     "text": [
      "[Parallel(n_jobs=-1)]: Using backend LokyBackend with 4 concurrent workers.\n",
      "[Parallel(n_jobs=-1)]: Done  48 out of  48 | elapsed:    1.5s finished\n"
     ]
    },
    {
     "data": {
      "text/plain": [
       "[({'booster': 'gbtree', 'learning_rate': 0.1, 'max_depth': 5},\n",
       "  0.8305154930715468),\n",
       " ({'booster': 'dart', 'learning_rate': 0.1, 'max_depth': 5},\n",
       "  0.8305154930715468),\n",
       " ({'booster': 'gbtree', 'learning_rate': 0.01, 'max_depth': 10},\n",
       "  0.8293742172665939)]"
      ]
     },
     "execution_count": 11,
     "metadata": {},
     "output_type": "execute_result"
    }
   ],
   "source": [
    "#Find best parameters for XGBoost\n",
    "params_XGB = dict(\n",
    "   max_depth=[5, 10],\n",
    "    booster=['gbtree', 'gblinear', 'dart'],\n",
    "    learning_rate=[0.01, 0.1]\n",
    ")\n",
    "XGB_S = xgb.XGBClassifier(random_state=DEF_RAND_STATE)\n",
    "grid_search(data1,XGB_S,params_XGB)"
   ]
  },
  {
   "cell_type": "code",
   "execution_count": 12,
   "metadata": {},
   "outputs": [
    {
     "name": "stdout",
     "output_type": "stream",
     "text": [
      "Fitting 4 folds for each of 540 candidates, totalling 2160 fits\n"
     ]
    },
    {
     "name": "stderr",
     "output_type": "stream",
     "text": [
      "[Parallel(n_jobs=-1)]: Using backend LokyBackend with 4 concurrent workers.\n",
      "[Parallel(n_jobs=-1)]: Done 200 tasks      | elapsed:    3.4s\n",
      "[Parallel(n_jobs=-1)]: Done 693 tasks      | elapsed:   26.3s\n",
      "[Parallel(n_jobs=-1)]: Done 1384 tasks      | elapsed:  1.3min\n",
      "[Parallel(n_jobs=-1)]: Done 2160 out of 2160 | elapsed:  1.5min finished\n"
     ]
    },
    {
     "data": {
      "text/plain": [
       "[({'boosting_type': 'gbdt',\n",
       "   'learning_rate': 1,\n",
       "   'max_depth': 5,\n",
       "   'n_estimators': 20,\n",
       "   'num_leaves': 1},\n",
       "  nan),\n",
       " ({'boosting_type': 'gbdt',\n",
       "   'learning_rate': 1,\n",
       "   'max_depth': 5,\n",
       "   'n_estimators': 20,\n",
       "   'num_leaves': 20},\n",
       "  0.8238041853512706),\n",
       " ({'boosting_type': 'gbdt',\n",
       "   'learning_rate': 1,\n",
       "   'max_depth': 5,\n",
       "   'n_estimators': 20,\n",
       "   'num_leaves': 31},\n",
       "  0.8226780592251445)]"
      ]
     },
     "execution_count": 12,
     "metadata": {},
     "output_type": "execute_result"
    }
   ],
   "source": [
    "#Find best parameters for LGB\n",
    "params_LGB = dict(\n",
    "    boosting_type = ['gbdt','dart','rf','goss'],\n",
    "    num_leaves = [1,10,20,31,40],\n",
    "    max_depth = [5, 10,-1],\n",
    "    learning_rate=[1,0.1,0.001],\n",
    "    n_estimators = [20,100,1000]\n",
    ")\n",
    "LGB_S = lgb.LGBMClassifier(verbosity = -1, random_state = 42)\n",
    "grid_search(data1,LGB_S,params_LGB)"
   ]
  },
  {
   "cell_type": "code",
   "execution_count": 13,
   "metadata": {},
   "outputs": [],
   "source": [
    "#Find best parameters for CatBoost\n",
    "#It already goes above 83% So - Omitted!"
   ]
  },
  {
   "cell_type": "code",
   "execution_count": 14,
   "metadata": {},
   "outputs": [
    {
     "name": "stdout",
     "output_type": "stream",
     "text": [
      "Tree: 0.7621\n",
      "Random forest: 0.8193\n",
      "XGBoost: 0.8215\n",
      "LightGBM: 0.8238\n",
      "CatBoost: 0.8328\n"
     ]
    }
   ],
   "source": [
    "with warnings.catch_warnings():\n",
    "    warnings.simplefilter(\"ignore\")\n",
    "\n",
    "    Tree = tree.DecisionTreeClassifier(max_depth=2, criterion='entropy')\n",
    "    prediction = model_selection.cross_val_predict(Tree, data1.loc[:, data1.columns!='Survived'], data1['Survived'], cv=cv)\n",
    "    acc = metrics.accuracy_score(data1['Survived'], prediction)\n",
    "    print('Tree: {:6.4}'.format(acc))\n",
    "\n",
    "    RandomForest = ensemble.RandomForestClassifier()\n",
    "    prediction = model_selection.cross_val_predict(RandomForest, data1.loc[:, data1.columns!='Survived'], data1['Survived'], cv=cv)\n",
    "    acc = metrics.accuracy_score(data1['Survived'], prediction)\n",
    "    print('Random forest: {:6.4}'.format(acc))\n",
    "\n",
    "    XGBoost = xgb.XGBClassifier()\n",
    "    prediction = model_selection.cross_val_predict(XGBoost, data1.loc[:, data1.columns!='Survived'], data1['Survived'], cv=cv)\n",
    "    acc = metrics.accuracy_score(data1['Survived'], prediction)\n",
    "    print('XGBoost: {:6.4}'.format(acc))\n",
    "\n",
    "    LightGBM = lgb.LGBMClassifier(verbosity=-1)\n",
    "    prediction = model_selection.cross_val_predict(LightGBM, data1.loc[:, data1.columns!='Survived'], data1['Survived'], cv=cv)\n",
    "    acc = metrics.accuracy_score(data1['Survived'], prediction)\n",
    "    print('LightGBM: {:6.4}'.format(acc))\n",
    "\n",
    "    CatBoost = CatBoostClassifier(logging_level='Silent', learning_rate=0.015)\n",
    "    prediction = model_selection.cross_val_predict(CatBoost, data1.loc[:, data1.columns!='Survived'], data1['Survived'], cv=cv)\n",
    "    acc = metrics.accuracy_score(data1['Survived'], prediction)\n",
    "    print('CatBoost: {:6.4}'.format(acc))"
   ]
  },
  {
   "cell_type": "markdown",
   "metadata": {},
   "source": [
    "## 4\n",
    "\n",
    "### В комментариях попытайтесь объяснить парадокс, почему перечисленные выше супер алгоритмы не смогли победить метод ближайших соседей из 3-й лабораторной работы?"
   ]
  },
  {
   "cell_type": "markdown",
   "metadata": {},
   "source": [
    "Не проведен еще отбор признаков. Да и выборка не лучшая..."
   ]
  },
  {
   "cell_type": "markdown",
   "metadata": {},
   "source": [
    "##  5\n",
    "### Найдите 10 самых информативных признаков, при помощи следующего подхода. Используйте по очереди каждый признак, чтобы по нему предсказать ответ. Нарисуйте на графике столбцовую диаграмму качества предсказаний"
   ]
  },
  {
   "cell_type": "code",
   "execution_count": 15,
   "metadata": {},
   "outputs": [],
   "source": [
    "method = lgb.LGBMClassifier(verbosity=-1)\n",
    "# важность признаков\n",
    "importance = {}\n",
    "for c in data1.columns:\n",
    "    if c == 'Survived': continue\n",
    "    # пытаемся предсказать результат, используя только один столбец\n",
    "    with warnings.catch_warnings():\n",
    "        warnings.simplefilter(\"ignore\")\n",
    "        prediction = model_selection.cross_val_predict(method, \n",
    "                                                       data1[c].values.reshape(-1,1),\n",
    "                                                       data1['Survived'],\n",
    "                                                       cv=cv)\n",
    "    importance[c] = metrics.accuracy_score(data1['Survived'], prediction)\n",
    "cols = list(importance.keys())\n",
    "fi = np.array([importance[c] for c in cols])\n",
    "\n",
    "# мы вычитаем из accuracy качество простой модели предсказания: 'все погибнут'\n",
    "fi = fi - np.sum(data1['Survived']==0)/len(data1)"
   ]
  },
  {
   "cell_type": "code",
   "execution_count": 16,
   "metadata": {},
   "outputs": [
    {
     "data": {
      "image/png": "[encoded data removed]",
      "text/plain": [
       "<Figure size 864x504 with 1 Axes>"
      ]
     },
     "metadata": {
      "needs_background": "light"
     },
     "output_type": "display_data"
    }
   ],
   "source": [
    "fig = plt.figure()\n",
    "plt.rc('font', family='Arial')\n",
    "plt.rcParams['xtick.labelsize'] = 20\n",
    "plt.bar(np.arange(len(cols)), fi, color='g')\n",
    "plt.xticks(np.arange(len(cols)), cols, rotation='vertical')\n",
    "_ = fig.suptitle('Важность признаков', fontsize=20)"
   ]
  },
  {
   "cell_type": "markdown",
   "metadata": {},
   "source": [
    "## 6\n",
    "### Судя по графику самыми важными являются признаки пола и приставки к имени. Переберите все возможные пары признаков и выясните, является ли эта пара признаков наилучшей. Выведите на экран 10 лучших пар по убывнию их важности"
   ]
  },
  {
   "cell_type": "code",
   "execution_count": 17,
   "metadata": {},
   "outputs": [
    {
     "data": {
      "text/plain": [
       "[('Pclass', 'NamePrefix'),\n",
       " ('Pclass', 'Sex'),\n",
       " ('Pclass', 'Age'),\n",
       " ('Pclass', 'SibSp'),\n",
       " ('Pclass', 'Parch'),\n",
       " ('Pclass', 'Fare'),\n",
       " ('Pclass', 'Cabin'),\n",
       " ('Pclass', 'Embarked'),\n",
       " ('NamePrefix', 'Sex'),\n",
       " ('NamePrefix', 'Age'),\n",
       " ('NamePrefix', 'SibSp'),\n",
       " ('NamePrefix', 'Parch'),\n",
       " ('NamePrefix', 'Fare'),\n",
       " ('NamePrefix', 'Cabin'),\n",
       " ('NamePrefix', 'Embarked'),\n",
       " ('Sex', 'Age'),\n",
       " ('Sex', 'SibSp'),\n",
       " ('Sex', 'Parch'),\n",
       " ('Sex', 'Fare'),\n",
       " ('Sex', 'Cabin'),\n",
       " ('Sex', 'Embarked'),\n",
       " ('Age', 'SibSp'),\n",
       " ('Age', 'Parch'),\n",
       " ('Age', 'Fare'),\n",
       " ('Age', 'Cabin'),\n",
       " ('Age', 'Embarked'),\n",
       " ('SibSp', 'Parch'),\n",
       " ('SibSp', 'Fare'),\n",
       " ('SibSp', 'Cabin'),\n",
       " ('SibSp', 'Embarked'),\n",
       " ('Parch', 'Fare'),\n",
       " ('Parch', 'Cabin'),\n",
       " ('Parch', 'Embarked'),\n",
       " ('Fare', 'Cabin'),\n",
       " ('Fare', 'Embarked'),\n",
       " ('Cabin', 'Embarked')]"
      ]
     },
     "execution_count": 17,
     "metadata": {},
     "output_type": "execute_result"
    }
   ],
   "source": [
    "def form_pairs_lists(data : pd.DataFrame):\n",
    "    list_columns = []\n",
    "    for c1 in range(len(data.columns)):\n",
    "        for c2 in range(c1+1, len(data.columns)):\n",
    "            list_columns.append((data.columns[c1],data.columns[c2]))\n",
    "    return list_columns\n",
    "\n",
    "pairs = form_pairs_lists(data1.loc[:, data1.columns != 'Survived'])\n",
    "pairs"
   ]
  },
  {
   "cell_type": "code",
   "execution_count": 18,
   "metadata": {},
   "outputs": [],
   "source": [
    "#Let us calculate the best pairs!\n",
    "# важность признаков\n",
    "importance = {}\n",
    "for c in pairs:\n",
    "    if c == 'Survived': continue\n",
    "    # пытаемся предсказать результат, используя только один столбец\n",
    "    with warnings.catch_warnings():\n",
    "        warnings.simplefilter(\"ignore\")\n",
    "        prediction = model_selection.cross_val_predict(method, \n",
    "                                                       data1[[c[0],c[1]]],\n",
    "                                                       data1['Survived'],\n",
    "                                                       cv=cv)\n",
    "    importance[c] = metrics.accuracy_score(data1['Survived'], prediction)\n",
    "cols = list(importance.keys())\n",
    "fi = np.array([importance[c] for c in cols])\n",
    "\n",
    "# мы вычитаем из accuracy качество простой модели предсказания: 'все погибнут'\n",
    "fi = fi - np.sum(data1['Survived']==0)/len(data1)"
   ]
  },
  {
   "cell_type": "code",
   "execution_count": 19,
   "metadata": {},
   "outputs": [
    {
     "data": {
      "image/png": "[encoded data removed]",
      "text/plain": [
       "<Figure size 864x504 with 1 Axes>"
      ]
     },
     "metadata": {
      "needs_background": "light"
     },
     "output_type": "display_data"
    }
   ],
   "source": [
    "fig = plt.figure(figsize=(12,7))\n",
    "plt.rc('font', family='Arial')\n",
    "plt.rcParams['xtick.labelsize'] = 20\n",
    "plt.bar(np.arange(len(cols)), fi, color='g')\n",
    "plt.xticks(np.arange(len(cols)), cols, rotation='vertical')\n",
    "_ = fig.suptitle('Важность признаков', fontsize=20)"
   ]
  },
  {
   "cell_type": "code",
   "execution_count": 20,
   "metadata": {},
   "outputs": [],
   "source": [
    "#So, the best pair, according to the graph, is \"NamePrefix, SibSp\""
   ]
  },
  {
   "cell_type": "code",
   "execution_count": null,
   "metadata": {},
   "outputs": [],
   "source": []
  }
 ],
 "metadata": {
  "kernelspec": {
   "display_name": "Python 3",
   "language": "python",
   "name": "python3"
  },
  "language_info": {
   "codemirror_mode": {
    "name": "ipython",
    "version": 3
   },
   "file_extension": ".py",
   "mimetype": "text/x-python",
   "name": "python",
   "nbconvert_exporter": "python",
   "pygments_lexer": "ipython3",
   "version": "3.7.7"
  }
 },
 "nbformat": 4,
 "nbformat_minor": 2
}
